{
  "cells": [
    {
      "cell_type": "markdown",
      "metadata": {
        "id": "title_cell"
      },
      "source": [
        "# Dot Product\n",
        "\n",
        "Dot product (скалярний добуток) — це фундаментальна операція з векторами в лінійній алгебрі. Вона часто зустрічається в математиці, фізиці, програмуванні та, звичайно, у Machine Learning.\n",
        "\n",
        "Dot product (скалярний добуток) двох векторів - це сума добутків їх відповідних компонентів."
      ]
    },
    {
      "cell_type": "markdown",
      "metadata": {
        "id": "definition_cell"
      },
      "source": [
        "### Визначення\n",
        "\n",
        "Для двох векторів однакової розмірності, наприклад\n",
        "\n",
        "$\\vec{a} = [a_1, a_2, ..., a_n]$\n",
        "\n",
        "і\n",
        "\n",
        "$\\vec{b} = [b_1, b_2, ..., b_n]$"
      ]
    },
    {
      "cell_type": "markdown",
      "metadata": {
        "id": "formula_cell"
      },
      "source": [
        "### Формула\n",
        "\n",
        "Скалярний добуток обчислюється як:\n",
        "\n",
        "$\\vec{a} \\cdot \\vec{b} = a_1b_1 + a_2b_2 + ... + a_nb_n$"
      ]
    },
    {
      "cell_type": "markdown",
      "metadata": {
        "id": "example_cell"
      },
      "source": [
        "### Приклад\n",
        "\n",
        "Для:\n",
        "\n",
        "$\\vec{a} = [2, 3]$\n",
        "\n",
        "$\\vec{b} = [4, 5]$\n",
        "\n",
        "Скалярний добуток дорівнює:\n",
        "\n",
        "$\\vec{a} \\cdot \\vec{b} = 2 \\times 4 + 3 \\times 5 = 8 + 15 = 23$"
      ]
    },
    {
      "cell_type": "code",
      "execution_count": null,
      "metadata": {
        "id": "example_code_cell"
      },
      "outputs": [],
      "source": [
        "import numpy as np\n",
        "\n",
        "# Define vectors\n",
        "a = np.array([2, 3])\n",
        "b = np.array([4, 5])\n",
        "\n",
        "# Calculate dot product using NumPy\n",
        "dot_product = np.dot(a, b)\n",
        "\n",
        "print(f\"Vector a: {a}\")\n",
        "print(f\"Vector b: {b}\")\n",
        "print(f\"Dot product: {dot_product}\")\n",
        "\n",
        "# Manual calculation to verify\n",
        "manual_dot = a[0]*b[0] + a[1]*b[1]\n",
        "print(f\"Manual calculation: {manual_dot}\")"
      ]
    },
    {
      "cell_type": "markdown",
      "metadata": {
        "id": "geometric_meaning_cell"
      },
      "source": [
        "### Геометричний сенс\n",
        "\n",
        "Dot product також можна визначити через кут між векторами:\n",
        "\n",
        "$\\vec{a} \\cdot \\vec{b} = |\\vec{a}| \\cdot |\\vec{b}| \\cdot \\cos(\\theta)$\n",
        "\n",
        "де $\\theta$ — кут між векторами, а $|\\vec{a}|$ і $|\\vec{b}|$ — їхні довжини (норми).\n",
        "\n",
        "Важливо:\n",
        "\n",
        "* Якщо dot product = 0 → вектори перпендикулярні.\n",
        "* Якщо > 0 → вектори \"дивляться\" в одну сторону.\n",
        "* Якщо < 0 → вектори спрямовані у протилежні сторони."
      ]
    },
    {
      "cell_type": "code",
      "execution_count": null,
      "metadata": {
        "id": "geometric_code_cell"
      },
      "outputs": [],
      "source": [
        "# Calculate the angle between two vectors\n",
        "def angle_between(v1, v2):\n",
        "    dot = np.dot(v1, v2)\n",
        "    norm_v1 = np.linalg.norm(v1)\n",
        "    norm_v2 = np.linalg.norm(v2)\n",
        "    cos_angle = dot / (norm_v1 * norm_v2)\n",
        "    # Handle numerical errors that might cause cos_angle to be slightly outside [-1, 1]\n",
        "    cos_angle = np.clip(cos_angle, -1.0, 1.0)\n",
        "    angle_rad = np.arccos(cos_angle)\n",
        "    angle_deg = np.degrees(angle_rad)\n",
        "    return angle_deg\n",
        "\n",
        "# Example vectors\n",
        "a = np.array([1, 0])  # Vector along x-axis\n",
        "b = np.array([0, 1])  # Vector along y-axis (perpendicular to a)\n",
        "c = np.array([1, 1])  # Vector at 45 degrees\n",
        "d = np.array([-1, 0])  # Vector opposite to a\n",
        "\n",
        "print(f\"Angle between a and b: {angle_between(a, b)} degrees (should be 90°)\")\n",
        "print(f\"Angle between a and c: {angle_between(a, c)} degrees (should be 45°)\")\n",
        "print(f\"Angle between a and d: {angle_between(a, d)} degrees (should be 180°)\")\n",
        "\n",
        "# Verify the dot product properties\n",
        "print(\"\\nDot product values:\")\n",
        "print(f\"a·b = {np.dot(a, b)} (perpendicular vectors)\")\n",
        "print(f\"a·c = {np.dot(a, c)} (acute angle)\")\n",
        "print(f\"a·d = {np.dot(a, d)} (opposite vectors)\")"
      ]
    },
    {
      "cell_type": "markdown",
      "metadata": {
        "id": "properties_cell"
      },
      "source": [
        "### Властивості\n",
        "\n",
        "1. Комутативність: $\\vec{a} \\cdot \\vec{b} = \\vec{b} \\cdot \\vec{a}$\n",
        "2. Лінійність: $\\vec{a} \\cdot (\\vec{b} + \\vec{c}) = \\vec{a} \\cdot \\vec{b} + \\vec{a} \\cdot \\vec{c}$\n",
        "3. Скалярний добуток відповідає площі паралелограма, визначеної двома векторами."
      ]
    },
    {
      "cell_type": "code",
      "execution_count": null,
      "metadata": {
        "id": "properties_code_cell"
      },
      "outputs": [],
      "source": [
        "# Verify the commutative property\n",
        "a = np.array([3, 4, 5])\n",
        "b = np.array([1, 2, 3])\n",
        "\n",
        "print(\"Commutative property:\")\n",
        "print(f\"a·b = {np.dot(a, b)}\")\n",
        "print(f\"b·a = {np.dot(b, a)}\")\n",
        "print(f\"a·b == b·a: {np.dot(a, b) == np.dot(b, a)}\")\n",
        "\n",
        "# Verify the distributive property\n",
        "c = np.array([5, 6, 7])\n",
        "b_plus_c = b + c\n",
        "\n",
        "print(\"\\nDistributive property:\")\n",
        "print(f\"a·(b+c) = {np.dot(a, b_plus_c)}\")\n",
        "print(f\"a·b + a·c = {np.dot(a, b) + np.dot(a, c)}\")\n",
        "print(f\"a·(b+c) == a·b + a·c: {np.dot(a, b_plus_c) == np.dot(a, b) + np.dot(a, c)}\")"
      ]
    },
    {
      "cell_type": "markdown",
      "metadata": {
        "id": "applications_cell"
      },
      "source": [
        "### Використання\n",
        "\n",
        "1. Машинні навчання: скалярний добуток використовується для визначення кута між векторами, що є важливою метрикою для визначення відношень між векторами.\n",
        "2. Фізиці: скалярний добуток використовується для визначення кута між векторами, що є важливою метрикою для визначення відношень між векторами.\n",
        "3. Програмування: скалярний добуток використовується для визначення кута між векторами, що є важливою метрикою для визначення відношень між векторами."
      ]
    },
    {
      "cell_type": "code",
      "execution_count": null,
      "metadata": {
        "id": "applications_code_cell"
      },
      "outputs": [],
      "source": [
        "# Machine Learning Example: Cosine Similarity\n",
        "from sklearn.metrics.pairwise import cosine_similarity\n",
        "\n",
        "# Document vectors (simplified example)\n",
        "doc1 = np.array([[1, 1, 0, 1, 0, 1]])  # Document 1 word frequencies\n",
        "doc2 = np.array([[1, 1, 1, 0, 1, 0]])  # Document 2 word frequencies\n",
        "doc3 = np.array([[0, 1, 0, 1, 0, 1]])  # Document 3 word frequencies\n",
        "\n",
        "# Calculate cosine similarities\n",
        "print(\"Cosine Similarity (based on dot product):\")\n",
        "print(f\"Similarity between doc1 and doc2: {cosine_similarity(doc1, doc2)[0][0]:.4f}\")\n",
        "print(f\"Similarity between doc1 and doc3: {cosine_similarity(doc1, doc3)[0][0]:.4f}\")\n",
        "print(f\"Similarity between doc2 and doc3: {cosine_similarity(doc2, doc3)[0][0]:.4f}\")\n",
        "\n",
        "# Physics Example: Work calculation\n",
        "print(\"\\nPhysics Example - Work:\")\n",
        "force = np.array([10, 5, 0])  # Force vector in Newtons\n",
        "displacement = np.array([2, 0, 0])  # Displacement vector in meters\n",
        "\n",
        "# Work = Force · Displacement\n",
        "work = np.dot(force, displacement)\n",
        "print(f\"Force: {force} N\")\n",
        "print(f\"Displacement: {displacement} m\")\n",
        "print(f\"Work done: {work} Joules\")"
      ]
    }
  ],
  "metadata": {
    "colab": {
      "collapsed_sections": [],
      "name": "Dot Product",
      "provenance": []
    },
    "kernelspec": {
      "display_name": "Python 3",
      "name": "python3"
    },
    "language_info": {
      "name": "python"
    }
  },
  "nbformat": 4,
  "nbformat_minor": 0
}
