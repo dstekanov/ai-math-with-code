{
  "cells": [
    {
      "cell_type": "markdown",
      "metadata": {
        "id": "view-in-github",
        "colab_type": "text"
      },
      "source": [
        "<a href=\"https://colab.research.google.com/github/dstekanov/ai-math-with-code/blob/main/quora_question_pairs.ipynb\" target=\"_parent\"><img src=\"https://colab.research.google.com/assets/colab-badge.svg\" alt=\"Open In Colab\"/></a>"
      ]
    },
    {
      "cell_type": "markdown",
      "source": [
        "# \u041a\u0440\u043e\u043a 0: \u041f\u0456\u0434\u0433\u043e\u0442\u043e\u0432\u043a\u0430 Google Colab"
      ],
      "metadata": {
        "id": "UcbJMEK8UWkA"
      },
      "id": "UcbJMEK8UWkA"
    },
    {
      "cell_type": "code",
      "execution_count": 9,
      "id": "33700a36",
      "metadata": {
        "id": "33700a36"
      },
      "outputs": [],
      "source": [
        "# \u2b07\ufe0f \u0417\u0430\u0432\u0430\u043d\u0442\u0430\u0436\u0435\u043d\u043d\u044f \u0431\u0456\u0431\u043b\u0456\u043e\u0442\u0435\u043a\n",
        "import pandas as pd\n",
        "import re\n",
        "import string"
      ]
    },
    {
      "cell_type": "code",
      "execution_count": 10,
      "id": "056a3ff0",
      "metadata": {
        "id": "056a3ff0"
      },
      "outputs": [],
      "source": [
        "# \ud83d\udce5 \u0417\u0430\u0432\u0430\u043d\u0442\u0430\u0436\u0435\u043d\u043d\u044f \u0444\u0430\u0439\u043b\u0443 (\u044f\u043a\u0449\u043e \u0432\u0440\u0443\u0447\u043d\u0443 \u0437 Colab)\n",
        "# from google.colab import files\n",
        "\n",
        "# uploaded = files.upload()"
      ]
    },
    {
      "cell_type": "code",
      "execution_count": 13,
      "id": "29042f56",
      "metadata": {
        "id": "29042f56",
        "outputId": "ef8d53ed-e8d0-4f49-d311-47ce5fa09639",
        "colab": {
          "base_uri": "https://localhost:8080/",
          "height": 206
        }
      },
      "outputs": [
        {
          "output_type": "execute_result",
          "data": {
            "text/plain": [
              "                                           question1  \\\n",
              "0  What is the step by step guide to invest in sh...   \n",
              "1  What is the story of Kohinoor (Koh-i-Noor) Dia...   \n",
              "2  How can I increase the speed of my internet co...   \n",
              "3  Why am I mentally very lonely? How can I solve...   \n",
              "4  Which one dissolve in water quikly sugar, salt...   \n",
              "\n",
              "                                           question2  is_duplicate  \n",
              "0  What is the step by step guide to invest in sh...             0  \n",
              "1  What would happen if the Indian government sto...             0  \n",
              "2  How can Internet speed be increased by hacking...             0  \n",
              "3  Find the remainder when [math]23^{24}[/math] i...             0  \n",
              "4            Which fish would survive in salt water?             0  "
            ],
            "text/html": [
              "\n",
              "  <div id=\"df-d86c7544-b0c1-476d-baa1-b0feae0dd965\" class=\"colab-df-container\">\n",
              "    <div>\n",
              "<style scoped>\n",
              "    .dataframe tbody tr th:only-of-type {\n",
              "        vertical-align: middle;\n",
              "    }\n",
              "\n",
              "    .dataframe tbody tr th {\n",
              "        vertical-align: top;\n",
              "    }\n",
              "\n",
              "    .dataframe thead th {\n",
              "        text-align: right;\n",
              "    }\n",
              "</style>\n",
              "<table border=\"1\" class=\"dataframe\">\n",
              "  <thead>\n",
              "    <tr style=\"text-align: right;\">\n",
              "      <th></th>\n",
              "      <th>question1</th>\n",
              "      <th>question2</th>\n",
              "      <th>is_duplicate</th>\n",
              "    </tr>\n",
              "  </thead>\n",
              "  <tbody>\n",
              "    <tr>\n",
              "      <th>0</th>\n",
              "      <td>What is the step by step guide to invest in sh...</td>\n",
              "      <td>What is the step by step guide to invest in sh...</td>\n",
              "      <td>0</td>\n",
              "    </tr>\n",
              "    <tr>\n",
              "      <th>1</th>\n",
              "      <td>What is the story of Kohinoor (Koh-i-Noor) Dia...</td>\n",
              "      <td>What would happen if the Indian government sto...</td>\n",
              "      <td>0</td>\n",
              "    </tr>\n",
              "    <tr>\n",
              "      <th>2</th>\n",
              "      <td>How can I increase the speed of my internet co...</td>\n",
              "      <td>How can Internet speed be increased by hacking...</td>\n",
              "      <td>0</td>\n",
              "    </tr>\n",
              "    <tr>\n",
              "      <th>3</th>\n",
              "      <td>Why am I mentally very lonely? How can I solve...</td>\n",
              "      <td>Find the remainder when [math]23^{24}[/math] i...</td>\n",
              "      <td>0</td>\n",
              "    </tr>\n",
              "    <tr>\n",
              "      <th>4</th>\n",
              "      <td>Which one dissolve in water quikly sugar, salt...</td>\n",
              "      <td>Which fish would survive in salt water?</td>\n",
              "      <td>0</td>\n",
              "    </tr>\n",
              "  </tbody>\n",
              "</table>\n",
              "</div>\n",
              "    <div class=\"colab-df-buttons\">\n",
              "\n",
              "  <div class=\"colab-df-container\">\n",
              "    <button class=\"colab-df-convert\" onclick=\"convertToInteractive('df-d86c7544-b0c1-476d-baa1-b0feae0dd965')\"\n",
              "            title=\"Convert this dataframe to an interactive table.\"\n",
              "            style=\"display:none;\">\n",
              "\n",
              "  <svg xmlns=\"http://www.w3.org/2000/svg\" height=\"24px\" viewBox=\"0 -960 960 960\">\n",
              "    <path d=\"M120-120v-720h720v720H120Zm60-500h600v-160H180v160Zm220 220h160v-160H400v160Zm0 220h160v-160H400v160ZM180-400h160v-160H180v160Zm440 0h160v-160H620v160ZM180-180h160v-160H180v160Zm440 0h160v-160H620v160Z\"/>\n",
              "  </svg>\n",
              "    </button>\n",
              "\n",
              "  <style>\n",
              "    .colab-df-container {\n",
              "      display:flex;\n",
              "      gap: 12px;\n",
              "    }\n",
              "\n",
              "    .colab-df-convert {\n",
              "      background-color: #E8F0FE;\n",
              "      border: none;\n",
              "      border-radius: 50%;\n",
              "      cursor: pointer;\n",
              "      display: none;\n",
              "      fill: #1967D2;\n",
              "      height: 32px;\n",
              "      padding: 0 0 0 0;\n",
              "      width: 32px;\n",
              "    }\n",
              "\n",
              "    .colab-df-convert:hover {\n",
              "      background-color: #E2EBFA;\n",
              "      box-shadow: 0px 1px 2px rgba(60, 64, 67, 0.3), 0px 1px 3px 1px rgba(60, 64, 67, 0.15);\n",
              "      fill: #174EA6;\n",
              "    }\n",
              "\n",
              "    .colab-df-buttons div {\n",
              "      margin-bottom: 4px;\n",
              "    }\n",
              "\n",
              "    [theme=dark] .colab-df-convert {\n",
              "      background-color: #3B4455;\n",
              "      fill: #D2E3FC;\n",
              "    }\n",
              "\n",
              "    [theme=dark] .colab-df-convert:hover {\n",
              "      background-color: #434B5C;\n",
              "      box-shadow: 0px 1px 3px 1px rgba(0, 0, 0, 0.15);\n",
              "      filter: drop-shadow(0px 1px 2px rgba(0, 0, 0, 0.3));\n",
              "      fill: #FFFFFF;\n",
              "    }\n",
              "  </style>\n",
              "\n",
              "    <script>\n",
              "      const buttonEl =\n",
              "        document.querySelector('#df-d86c7544-b0c1-476d-baa1-b0feae0dd965 button.colab-df-convert');\n",
              "      buttonEl.style.display =\n",
              "        google.colab.kernel.accessAllowed ? 'block' : 'none';\n",
              "\n",
              "      async function convertToInteractive(key) {\n",
              "        const element = document.querySelector('#df-d86c7544-b0c1-476d-baa1-b0feae0dd965');\n",
              "        const dataTable =\n",
              "          await google.colab.kernel.invokeFunction('convertToInteractive',\n",
              "                                                    [key], {});\n",
              "        if (!dataTable) return;\n",
              "\n",
              "        const docLinkHtml = 'Like what you see? Visit the ' +\n",
              "          '<a target=\"_blank\" href=https://colab.research.google.com/notebooks/data_table.ipynb>data table notebook</a>'\n",
              "          + ' to learn more about interactive tables.';\n",
              "        element.innerHTML = '';\n",
              "        dataTable['output_type'] = 'display_data';\n",
              "        await google.colab.output.renderOutput(dataTable, element);\n",
              "        const docLink = document.createElement('div');\n",
              "        docLink.innerHTML = docLinkHtml;\n",
              "        element.appendChild(docLink);\n",
              "      }\n",
              "    </script>\n",
              "  </div>\n",
              "\n",
              "\n",
              "    <div id=\"df-e859e300-7925-459e-9bda-e23c24547aff\">\n",
              "      <button class=\"colab-df-quickchart\" onclick=\"quickchart('df-e859e300-7925-459e-9bda-e23c24547aff')\"\n",
              "                title=\"Suggest charts\"\n",
              "                style=\"display:none;\">\n",
              "\n",
              "<svg xmlns=\"http://www.w3.org/2000/svg\" height=\"24px\"viewBox=\"0 0 24 24\"\n",
              "     width=\"24px\">\n",
              "    <g>\n",
              "        <path d=\"M19 3H5c-1.1 0-2 .9-2 2v14c0 1.1.9 2 2 2h14c1.1 0 2-.9 2-2V5c0-1.1-.9-2-2-2zM9 17H7v-7h2v7zm4 0h-2V7h2v10zm4 0h-2v-4h2v4z\"/>\n",
              "    </g>\n",
              "</svg>\n",
              "      </button>\n",
              "\n",
              "<style>\n",
              "  .colab-df-quickchart {\n",
              "      --bg-color: #E8F0FE;\n",
              "      --fill-color: #1967D2;\n",
              "      --hover-bg-color: #E2EBFA;\n",
              "      --hover-fill-color: #174EA6;\n",
              "      --disabled-fill-color: #AAA;\n",
              "      --disabled-bg-color: #DDD;\n",
              "  }\n",
              "\n",
              "  [theme=dark] .colab-df-quickchart {\n",
              "      --bg-color: #3B4455;\n",
              "      --fill-color: #D2E3FC;\n",
              "      --hover-bg-color: #434B5C;\n",
              "      --hover-fill-color: #FFFFFF;\n",
              "      --disabled-bg-color: #3B4455;\n",
              "      --disabled-fill-color: #666;\n",
              "  }\n",
              "\n",
              "  .colab-df-quickchart {\n",
              "    background-color: var(--bg-color);\n",
              "    border: none;\n",
              "    border-radius: 50%;\n",
              "    cursor: pointer;\n",
              "    display: none;\n",
              "    fill: var(--fill-color);\n",
              "    height: 32px;\n",
              "    padding: 0;\n",
              "    width: 32px;\n",
              "  }\n",
              "\n",
              "  .colab-df-quickchart:hover {\n",
              "    background-color: var(--hover-bg-color);\n",
              "    box-shadow: 0 1px 2px rgba(60, 64, 67, 0.3), 0 1px 3px 1px rgba(60, 64, 67, 0.15);\n",
              "    fill: var(--button-hover-fill-color);\n",
              "  }\n",
              "\n",
              "  .colab-df-quickchart-complete:disabled,\n",
              "  .colab-df-quickchart-complete:disabled:hover {\n",
              "    background-color: var(--disabled-bg-color);\n",
              "    fill: var(--disabled-fill-color);\n",
              "    box-shadow: none;\n",
              "  }\n",
              "\n",
              "  .colab-df-spinner {\n",
              "    border: 2px solid var(--fill-color);\n",
              "    border-color: transparent;\n",
              "    border-bottom-color: var(--fill-color);\n",
              "    animation:\n",
              "      spin 1s steps(1) infinite;\n",
              "  }\n",
              "\n",
              "  @keyframes spin {\n",
              "    0% {\n",
              "      border-color: transparent;\n",
              "      border-bottom-color: var(--fill-color);\n",
              "      border-left-color: var(--fill-color);\n",
              "    }\n",
              "    20% {\n",
              "      border-color: transparent;\n",
              "      border-left-color: var(--fill-color);\n",
              "      border-top-color: var(--fill-color);\n",
              "    }\n",
              "    30% {\n",
              "      border-color: transparent;\n",
              "      border-left-color: var(--fill-color);\n",
              "      border-top-color: var(--fill-color);\n",
              "      border-right-color: var(--fill-color);\n",
              "    }\n",
              "    40% {\n",
              "      border-color: transparent;\n",
              "      border-right-color: var(--fill-color);\n",
              "      border-top-color: var(--fill-color);\n",
              "    }\n",
              "    60% {\n",
              "      border-color: transparent;\n",
              "      border-right-color: var(--fill-color);\n",
              "    }\n",
              "    80% {\n",
              "      border-color: transparent;\n",
              "      border-right-color: var(--fill-color);\n",
              "      border-bottom-color: var(--fill-color);\n",
              "    }\n",
              "    90% {\n",
              "      border-color: transparent;\n",
              "      border-bottom-color: var(--fill-color);\n",
              "    }\n",
              "  }\n",
              "</style>\n",
              "\n",
              "      <script>\n",
              "        async function quickchart(key) {\n",
              "          const quickchartButtonEl =\n",
              "            document.querySelector('#' + key + ' button');\n",
              "          quickchartButtonEl.disabled = true;  // To prevent multiple clicks.\n",
              "          quickchartButtonEl.classList.add('colab-df-spinner');\n",
              "          try {\n",
              "            const charts = await google.colab.kernel.invokeFunction(\n",
              "                'suggestCharts', [key], {});\n",
              "          } catch (error) {\n",
              "            console.error('Error during call to suggestCharts:', error);\n",
              "          }\n",
              "          quickchartButtonEl.classList.remove('colab-df-spinner');\n",
              "          quickchartButtonEl.classList.add('colab-df-quickchart-complete');\n",
              "        }\n",
              "        (() => {\n",
              "          let quickchartButtonEl =\n",
              "            document.querySelector('#df-e859e300-7925-459e-9bda-e23c24547aff button');\n",
              "          quickchartButtonEl.style.display =\n",
              "            google.colab.kernel.accessAllowed ? 'block' : 'none';\n",
              "        })();\n",
              "      </script>\n",
              "    </div>\n",
              "\n",
              "    </div>\n",
              "  </div>\n"
            ],
            "application/vnd.google.colaboratory.intrinsic+json": {
              "type": "dataframe",
              "summary": "{\n  \"name\": \"df[['question1', 'question2', 'is_duplicate']]\",\n  \"rows\": 5,\n  \"fields\": [\n    {\n      \"column\": \"question1\",\n      \"properties\": {\n        \"dtype\": \"string\",\n        \"num_unique_values\": 5,\n        \"samples\": [\n          \"What is the story of Kohinoor (Koh-i-Noor) Diamond?\",\n          \"Which one dissolve in water quikly sugar, salt, methane and carbon di oxide?\",\n          \"How can I increase the speed of my internet connection while using a VPN?\"\n        ],\n        \"semantic_type\": \"\",\n        \"description\": \"\"\n      }\n    },\n    {\n      \"column\": \"question2\",\n      \"properties\": {\n        \"dtype\": \"string\",\n        \"num_unique_values\": 5,\n        \"samples\": [\n          \"What would happen if the Indian government stole the Kohinoor (Koh-i-Noor) diamond back?\",\n          \"Which fish would survive in salt water?\",\n          \"How can Internet speed be increased by hacking through DNS?\"\n        ],\n        \"semantic_type\": \"\",\n        \"description\": \"\"\n      }\n    },\n    {\n      \"column\": \"is_duplicate\",\n      \"properties\": {\n        \"dtype\": \"number\",\n        \"std\": 0,\n        \"min\": 0,\n        \"max\": 0,\n        \"num_unique_values\": 1,\n        \"samples\": [\n          0\n        ],\n        \"semantic_type\": \"\",\n        \"description\": \"\"\n      }\n    }\n  ]\n}"
            }
          },
          "metadata": {},
          "execution_count": 13
        }
      ],
      "source": [
        "# \ud83d\udcc4 \u0427\u0438\u0442\u0430\u043d\u043d\u044f CSV (\u0444\u0430\u0439\u043b \u043c\u0430\u0454 \u0431\u0443\u0442\u0438 'train.csv')\n",
        "df = pd.read_csv('train.csv')\n",
        "# df = pd.read_csv('train.csv')\n",
        "\n",
        "df = df.head(10_000)\n",
        "\n",
        "# \u0412\u0438\u0432\u043e\u0434\u0438\u043c\u043e \u043f\u0435\u0440\u0448\u0456 5 \u0440\u044f\u0434\u043a\u0456\u0432\n",
        "df[['question1', 'question2', 'is_duplicate']].head()"
      ]
    },
    {
      "cell_type": "markdown",
      "source": [
        "# \u041a\u0440\u043e\u043a 1: \u0411\u0430\u0437\u043e\u0432\u0438\u0439 \u043f\u0440\u0435\u043f\u0440\u043e\u0446\u0435\u0441\u0456\u043d\u0433"
      ],
      "metadata": {
        "id": "HB20h3HaUmPp"
      },
      "id": "HB20h3HaUmPp"
    },
    {
      "cell_type": "code",
      "execution_count": 14,
      "id": "e44c97d5",
      "metadata": {
        "id": "e44c97d5"
      },
      "outputs": [],
      "source": [
        "# \ud83e\uddfc \u0411\u0430\u0437\u043e\u0432\u0430 \u043e\u0447\u0438\u0441\u0442\u043a\u0430 \u2014 \u0432\u0438\u0434\u0430\u043b\u044f\u0454\u043c\u043e \u043f\u0440\u043e\u043f\u0443\u0449\u0435\u043d\u0456 \u0437\u043d\u0430\u0447\u0435\u043d\u043d\u044f\n",
        "df = df.dropna(subset=[\"question1\", \"question2\"])"
      ]
    },
    {
      "cell_type": "code",
      "execution_count": 15,
      "id": "964108c8",
      "metadata": {
        "id": "964108c8"
      },
      "outputs": [],
      "source": [
        "# \ud83d\udd24 \u0424\u0443\u043d\u043a\u0446\u0456\u044f \u043f\u0440\u0435\u043f\u0440\u043e\u0446\u0435\u0441\u0456\u043d\u0433\u0443\n",
        "def basic_preprocess(text):\n",
        "    text = text.lower()\n",
        "    text = re.sub(f\"[{re.escape(string.punctuation)}]\", \"\", text)\n",
        "    text = re.sub(r\"\\s+\", \" \", text).strip()\n",
        "    return text"
      ]
    },
    {
      "cell_type": "code",
      "execution_count": 16,
      "id": "10fa34ff",
      "metadata": {
        "id": "10fa34ff"
      },
      "outputs": [],
      "source": [
        "# \ud83e\uddfd \u0417\u0430\u0441\u0442\u043e\u0441\u0443\u0432\u0430\u043d\u043d\u044f \u0434\u043e \u043e\u0431\u043e\u0445 \u043f\u0438\u0442\u0430\u043d\u044c\n",
        "df[\"q1_clean\"] = df[\"question1\"].apply(basic_preprocess)\n",
        "df[\"q2_clean\"] = df[\"question2\"].apply(basic_preprocess)"
      ]
    },
    {
      "cell_type": "code",
      "execution_count": 17,
      "id": "07a03d93",
      "metadata": {
        "id": "07a03d93",
        "outputId": "31eec482-6a63-418c-94b3-ffd92db15a1b",
        "colab": {
          "base_uri": "https://localhost:8080/",
          "height": 293
        }
      },
      "outputs": [
        {
          "output_type": "execute_result",
          "data": {
            "text/plain": [
              "                                           question1  \\\n",
              "0  What is the step by step guide to invest in sh...   \n",
              "1  What is the story of Kohinoor (Koh-i-Noor) Dia...   \n",
              "2  How can I increase the speed of my internet co...   \n",
              "3  Why am I mentally very lonely? How can I solve...   \n",
              "4  Which one dissolve in water quikly sugar, salt...   \n",
              "\n",
              "                                            q1_clean  \\\n",
              "0  what is the step by step guide to invest in sh...   \n",
              "1     what is the story of kohinoor kohinoor diamond   \n",
              "2  how can i increase the speed of my internet co...   \n",
              "3   why am i mentally very lonely how can i solve it   \n",
              "4  which one dissolve in water quikly sugar salt ...   \n",
              "\n",
              "                                           question2  \\\n",
              "0  What is the step by step guide to invest in sh...   \n",
              "1  What would happen if the Indian government sto...   \n",
              "2  How can Internet speed be increased by hacking...   \n",
              "3  Find the remainder when [math]23^{24}[/math] i...   \n",
              "4            Which fish would survive in salt water?   \n",
              "\n",
              "                                            q2_clean  \n",
              "0  what is the step by step guide to invest in sh...  \n",
              "1  what would happen if the indian government sto...  \n",
              "2  how can internet speed be increased by hacking...  \n",
              "3  find the remainder when math2324math is divide...  \n",
              "4             which fish would survive in salt water  "
            ],
            "text/html": [
              "\n",
              "  <div id=\"df-fdad5ee1-fbdb-4655-9c57-ee28b7803a33\" class=\"colab-df-container\">\n",
              "    <div>\n",
              "<style scoped>\n",
              "    .dataframe tbody tr th:only-of-type {\n",
              "        vertical-align: middle;\n",
              "    }\n",
              "\n",
              "    .dataframe tbody tr th {\n",
              "        vertical-align: top;\n",
              "    }\n",
              "\n",
              "    .dataframe thead th {\n",
              "        text-align: right;\n",
              "    }\n",
              "</style>\n",
              "<table border=\"1\" class=\"dataframe\">\n",
              "  <thead>\n",
              "    <tr style=\"text-align: right;\">\n",
              "      <th></th>\n",
              "      <th>question1</th>\n",
              "      <th>q1_clean</th>\n",
              "      <th>question2</th>\n",
              "      <th>q2_clean</th>\n",
              "    </tr>\n",
              "  </thead>\n",
              "  <tbody>\n",
              "    <tr>\n",
              "      <th>0</th>\n",
              "      <td>What is the step by step guide to invest in sh...</td>\n",
              "      <td>what is the step by step guide to invest in sh...</td>\n",
              "      <td>What is the step by step guide to invest in sh...</td>\n",
              "      <td>what is the step by step guide to invest in sh...</td>\n",
              "    </tr>\n",
              "    <tr>\n",
              "      <th>1</th>\n",
              "      <td>What is the story of Kohinoor (Koh-i-Noor) Dia...</td>\n",
              "      <td>what is the story of kohinoor kohinoor diamond</td>\n",
              "      <td>What would happen if the Indian government sto...</td>\n",
              "      <td>what would happen if the indian government sto...</td>\n",
              "    </tr>\n",
              "    <tr>\n",
              "      <th>2</th>\n",
              "      <td>How can I increase the speed of my internet co...</td>\n",
              "      <td>how can i increase the speed of my internet co...</td>\n",
              "      <td>How can Internet speed be increased by hacking...</td>\n",
              "      <td>how can internet speed be increased by hacking...</td>\n",
              "    </tr>\n",
              "    <tr>\n",
              "      <th>3</th>\n",
              "      <td>Why am I mentally very lonely? How can I solve...</td>\n",
              "      <td>why am i mentally very lonely how can i solve it</td>\n",
              "      <td>Find the remainder when [math]23^{24}[/math] i...</td>\n",
              "      <td>find the remainder when math2324math is divide...</td>\n",
              "    </tr>\n",
              "    <tr>\n",
              "      <th>4</th>\n",
              "      <td>Which one dissolve in water quikly sugar, salt...</td>\n",
              "      <td>which one dissolve in water quikly sugar salt ...</td>\n",
              "      <td>Which fish would survive in salt water?</td>\n",
              "      <td>which fish would survive in salt water</td>\n",
              "    </tr>\n",
              "  </tbody>\n",
              "</table>\n",
              "</div>\n",
              "    <div class=\"colab-df-buttons\">\n",
              "\n",
              "  <div class=\"colab-df-container\">\n",
              "    <button class=\"colab-df-convert\" onclick=\"convertToInteractive('df-fdad5ee1-fbdb-4655-9c57-ee28b7803a33')\"\n",
              "            title=\"Convert this dataframe to an interactive table.\"\n",
              "            style=\"display:none;\">\n",
              "\n",
              "  <svg xmlns=\"http://www.w3.org/2000/svg\" height=\"24px\" viewBox=\"0 -960 960 960\">\n",
              "    <path d=\"M120-120v-720h720v720H120Zm60-500h600v-160H180v160Zm220 220h160v-160H400v160Zm0 220h160v-160H400v160ZM180-400h160v-160H180v160Zm440 0h160v-160H620v160ZM180-180h160v-160H180v160Zm440 0h160v-160H620v160Z\"/>\n",
              "  </svg>\n",
              "    </button>\n",
              "\n",
              "  <style>\n",
              "    .colab-df-container {\n",
              "      display:flex;\n",
              "      gap: 12px;\n",
              "    }\n",
              "\n",
              "    .colab-df-convert {\n",
              "      background-color: #E8F0FE;\n",
              "      border: none;\n",
              "      border-radius: 50%;\n",
              "      cursor: pointer;\n",
              "      display: none;\n",
              "      fill: #1967D2;\n",
              "      height: 32px;\n",
              "      padding: 0 0 0 0;\n",
              "      width: 32px;\n",
              "    }\n",
              "\n",
              "    .colab-df-convert:hover {\n",
              "      background-color: #E2EBFA;\n",
              "      box-shadow: 0px 1px 2px rgba(60, 64, 67, 0.3), 0px 1px 3px 1px rgba(60, 64, 67, 0.15);\n",
              "      fill: #174EA6;\n",
              "    }\n",
              "\n",
              "    .colab-df-buttons div {\n",
              "      margin-bottom: 4px;\n",
              "    }\n",
              "\n",
              "    [theme=dark] .colab-df-convert {\n",
              "      background-color: #3B4455;\n",
              "      fill: #D2E3FC;\n",
              "    }\n",
              "\n",
              "    [theme=dark] .colab-df-convert:hover {\n",
              "      background-color: #434B5C;\n",
              "      box-shadow: 0px 1px 3px 1px rgba(0, 0, 0, 0.15);\n",
              "      filter: drop-shadow(0px 1px 2px rgba(0, 0, 0, 0.3));\n",
              "      fill: #FFFFFF;\n",
              "    }\n",
              "  </style>\n",
              "\n",
              "    <script>\n",
              "      const buttonEl =\n",
              "        document.querySelector('#df-fdad5ee1-fbdb-4655-9c57-ee28b7803a33 button.colab-df-convert');\n",
              "      buttonEl.style.display =\n",
              "        google.colab.kernel.accessAllowed ? 'block' : 'none';\n",
              "\n",
              "      async function convertToInteractive(key) {\n",
              "        const element = document.querySelector('#df-fdad5ee1-fbdb-4655-9c57-ee28b7803a33');\n",
              "        const dataTable =\n",
              "          await google.colab.kernel.invokeFunction('convertToInteractive',\n",
              "                                                    [key], {});\n",
              "        if (!dataTable) return;\n",
              "\n",
              "        const docLinkHtml = 'Like what you see? Visit the ' +\n",
              "          '<a target=\"_blank\" href=https://colab.research.google.com/notebooks/data_table.ipynb>data table notebook</a>'\n",
              "          + ' to learn more about interactive tables.';\n",
              "        element.innerHTML = '';\n",
              "        dataTable['output_type'] = 'display_data';\n",
              "        await google.colab.output.renderOutput(dataTable, element);\n",
              "        const docLink = document.createElement('div');\n",
              "        docLink.innerHTML = docLinkHtml;\n",
              "        element.appendChild(docLink);\n",
              "      }\n",
              "    </script>\n",
              "  </div>\n",
              "\n",
              "\n",
              "    <div id=\"df-1d78a707-e0a4-4a64-a4a9-8fc8d4ff2d51\">\n",
              "      <button class=\"colab-df-quickchart\" onclick=\"quickchart('df-1d78a707-e0a4-4a64-a4a9-8fc8d4ff2d51')\"\n",
              "                title=\"Suggest charts\"\n",
              "                style=\"display:none;\">\n",
              "\n",
              "<svg xmlns=\"http://www.w3.org/2000/svg\" height=\"24px\"viewBox=\"0 0 24 24\"\n",
              "     width=\"24px\">\n",
              "    <g>\n",
              "        <path d=\"M19 3H5c-1.1 0-2 .9-2 2v14c0 1.1.9 2 2 2h14c1.1 0 2-.9 2-2V5c0-1.1-.9-2-2-2zM9 17H7v-7h2v7zm4 0h-2V7h2v10zm4 0h-2v-4h2v4z\"/>\n",
              "    </g>\n",
              "</svg>\n",
              "      </button>\n",
              "\n",
              "<style>\n",
              "  .colab-df-quickchart {\n",
              "      --bg-color: #E8F0FE;\n",
              "      --fill-color: #1967D2;\n",
              "      --hover-bg-color: #E2EBFA;\n",
              "      --hover-fill-color: #174EA6;\n",
              "      --disabled-fill-color: #AAA;\n",
              "      --disabled-bg-color: #DDD;\n",
              "  }\n",
              "\n",
              "  [theme=dark] .colab-df-quickchart {\n",
              "      --bg-color: #3B4455;\n",
              "      --fill-color: #D2E3FC;\n",
              "      --hover-bg-color: #434B5C;\n",
              "      --hover-fill-color: #FFFFFF;\n",
              "      --disabled-bg-color: #3B4455;\n",
              "      --disabled-fill-color: #666;\n",
              "  }\n",
              "\n",
              "  .colab-df-quickchart {\n",
              "    background-color: var(--bg-color);\n",
              "    border: none;\n",
              "    border-radius: 50%;\n",
              "    cursor: pointer;\n",
              "    display: none;\n",
              "    fill: var(--fill-color);\n",
              "    height: 32px;\n",
              "    padding: 0;\n",
              "    width: 32px;\n",
              "  }\n",
              "\n",
              "  .colab-df-quickchart:hover {\n",
              "    background-color: var(--hover-bg-color);\n",
              "    box-shadow: 0 1px 2px rgba(60, 64, 67, 0.3), 0 1px 3px 1px rgba(60, 64, 67, 0.15);\n",
              "    fill: var(--button-hover-fill-color);\n",
              "  }\n",
              "\n",
              "  .colab-df-quickchart-complete:disabled,\n",
              "  .colab-df-quickchart-complete:disabled:hover {\n",
              "    background-color: var(--disabled-bg-color);\n",
              "    fill: var(--disabled-fill-color);\n",
              "    box-shadow: none;\n",
              "  }\n",
              "\n",
              "  .colab-df-spinner {\n",
              "    border: 2px solid var(--fill-color);\n",
              "    border-color: transparent;\n",
              "    border-bottom-color: var(--fill-color);\n",
              "    animation:\n",
              "      spin 1s steps(1) infinite;\n",
              "  }\n",
              "\n",
              "  @keyframes spin {\n",
              "    0% {\n",
              "      border-color: transparent;\n",
              "      border-bottom-color: var(--fill-color);\n",
              "      border-left-color: var(--fill-color);\n",
              "    }\n",
              "    20% {\n",
              "      border-color: transparent;\n",
              "      border-left-color: var(--fill-color);\n",
              "      border-top-color: var(--fill-color);\n",
              "    }\n",
              "    30% {\n",
              "      border-color: transparent;\n",
              "      border-left-color: var(--fill-color);\n",
              "      border-top-color: var(--fill-color);\n",
              "      border-right-color: var(--fill-color);\n",
              "    }\n",
              "    40% {\n",
              "      border-color: transparent;\n",
              "      border-right-color: var(--fill-color);\n",
              "      border-top-color: var(--fill-color);\n",
              "    }\n",
              "    60% {\n",
              "      border-color: transparent;\n",
              "      border-right-color: var(--fill-color);\n",
              "    }\n",
              "    80% {\n",
              "      border-color: transparent;\n",
              "      border-right-color: var(--fill-color);\n",
              "      border-bottom-color: var(--fill-color);\n",
              "    }\n",
              "    90% {\n",
              "      border-color: transparent;\n",
              "      border-bottom-color: var(--fill-color);\n",
              "    }\n",
              "  }\n",
              "</style>\n",
              "\n",
              "      <script>\n",
              "        async function quickchart(key) {\n",
              "          const quickchartButtonEl =\n",
              "            document.querySelector('#' + key + ' button');\n",
              "          quickchartButtonEl.disabled = true;  // To prevent multiple clicks.\n",
              "          quickchartButtonEl.classList.add('colab-df-spinner');\n",
              "          try {\n",
              "            const charts = await google.colab.kernel.invokeFunction(\n",
              "                'suggestCharts', [key], {});\n",
              "          } catch (error) {\n",
              "            console.error('Error during call to suggestCharts:', error);\n",
              "          }\n",
              "          quickchartButtonEl.classList.remove('colab-df-spinner');\n",
              "          quickchartButtonEl.classList.add('colab-df-quickchart-complete');\n",
              "        }\n",
              "        (() => {\n",
              "          let quickchartButtonEl =\n",
              "            document.querySelector('#df-1d78a707-e0a4-4a64-a4a9-8fc8d4ff2d51 button');\n",
              "          quickchartButtonEl.style.display =\n",
              "            google.colab.kernel.accessAllowed ? 'block' : 'none';\n",
              "        })();\n",
              "      </script>\n",
              "    </div>\n",
              "\n",
              "    </div>\n",
              "  </div>\n"
            ],
            "application/vnd.google.colaboratory.intrinsic+json": {
              "type": "dataframe",
              "summary": "{\n  \"name\": \"df[[\\\"question1\\\", \\\"q1_clean\\\", \\\"question2\\\", \\\"q2_clean\\\"]]\",\n  \"rows\": 5,\n  \"fields\": [\n    {\n      \"column\": \"question1\",\n      \"properties\": {\n        \"dtype\": \"string\",\n        \"num_unique_values\": 5,\n        \"samples\": [\n          \"What is the story of Kohinoor (Koh-i-Noor) Diamond?\",\n          \"Which one dissolve in water quikly sugar, salt, methane and carbon di oxide?\",\n          \"How can I increase the speed of my internet connection while using a VPN?\"\n        ],\n        \"semantic_type\": \"\",\n        \"description\": \"\"\n      }\n    },\n    {\n      \"column\": \"q1_clean\",\n      \"properties\": {\n        \"dtype\": \"string\",\n        \"num_unique_values\": 5,\n        \"samples\": [\n          \"what is the story of kohinoor kohinoor diamond\",\n          \"which one dissolve in water quikly sugar salt methane and carbon di oxide\",\n          \"how can i increase the speed of my internet connection while using a vpn\"\n        ],\n        \"semantic_type\": \"\",\n        \"description\": \"\"\n      }\n    },\n    {\n      \"column\": \"question2\",\n      \"properties\": {\n        \"dtype\": \"string\",\n        \"num_unique_values\": 5,\n        \"samples\": [\n          \"What would happen if the Indian government stole the Kohinoor (Koh-i-Noor) diamond back?\",\n          \"Which fish would survive in salt water?\",\n          \"How can Internet speed be increased by hacking through DNS?\"\n        ],\n        \"semantic_type\": \"\",\n        \"description\": \"\"\n      }\n    },\n    {\n      \"column\": \"q2_clean\",\n      \"properties\": {\n        \"dtype\": \"string\",\n        \"num_unique_values\": 5,\n        \"samples\": [\n          \"what would happen if the indian government stole the kohinoor kohinoor diamond back\",\n          \"which fish would survive in salt water\",\n          \"how can internet speed be increased by hacking through dns\"\n        ],\n        \"semantic_type\": \"\",\n        \"description\": \"\"\n      }\n    }\n  ]\n}"
            }
          },
          "metadata": {},
          "execution_count": 17
        }
      ],
      "source": [
        "# \ud83d\udc40 \u041f\u0435\u0440\u0435\u0432\u0456\u0440\u043a\u0430 \u0440\u0435\u0437\u0443\u043b\u044c\u0442\u0430\u0442\u0456\u0432\n",
        "df[[\"question1\", \"q1_clean\", \"question2\", \"q2_clean\"]].head()"
      ]
    },
    {
      "cell_type": "markdown",
      "source": [
        "# \ud83d\udd39 \u041a\u0440\u043e\u043a 2: TF-IDF Vectorization + Cosine Similarity"
      ],
      "metadata": {
        "id": "68mrIlAvUR-0"
      },
      "id": "68mrIlAvUR-0"
    },
    {
      "cell_type": "code",
      "source": [
        "from sklearn.feature_extraction.text import TfidfVectorizer\n",
        "from sklearn.metrics.pairwise import cosine_similarity\n",
        "\n",
        "# \u041e\u0431'\u0454\u0434\u043d\u0443\u0454\u043c\u043e \u0432\u0441\u0456 \u0442\u0435\u043a\u0441\u0442\u0438\n",
        "all_qs = pd.concat([df['q1_clean'], df['q2_clean']], axis=0)\n",
        "\n",
        "# \u0412\u0435\u043a\u0442\u043e\u0440\u0438\u0437\u0430\u0442\u043e\u0440\n",
        "tfidf = TfidfVectorizer(max_features=5000)\n",
        "tfidf_matrix = tfidf.fit_transform(all_qs)\n",
        "\n",
        "# \u0420\u043e\u0437\u0434\u0456\u043b\u044f\u0454\u043c\u043e \u0437\u043d\u043e\u0432\u0443 \u043d\u0430 question1 \u0456 question2\n",
        "q1_tfidf = tfidf_matrix[:len(df)]\n",
        "q2_tfidf = tfidf_matrix[len(df):]\n",
        "\n",
        "# \u041a\u043e\u0441\u0438\u043d\u0443\u0441\u043d\u0430 \u0441\u0445\u043e\u0436\u0456\u0441\u0442\u044c\n",
        "df['tfidf_cosine'] = [cosine_similarity(q1, q2)[0][0] for q1, q2 in zip(q1_tfidf, q2_tfidf)]\n",
        "\n",
        "# \u0412\u0438\u0432\u043e\u0434\u0438\u043c\u043e \u043f\u0440\u0438\u043a\u043b\u0430\u0434\u0438\n",
        "df[['question1', 'question2', 'tfidf_cosine']].head(5)\n"
      ],
      "metadata": {
        "id": "3QUreS-9UO6l",
        "outputId": "8c5ecebf-1c0b-48f0-c5b2-f0978c773c0e",
        "colab": {
          "base_uri": "https://localhost:8080/",
          "height": 206
        }
      },
      "id": "3QUreS-9UO6l",
      "execution_count": 18,
      "outputs": [
        {
          "output_type": "execute_result",
          "data": {
            "text/plain": [
              "                                           question1  \\\n",
              "0  What is the step by step guide to invest in sh...   \n",
              "1  What is the story of Kohinoor (Koh-i-Noor) Dia...   \n",
              "2  How can I increase the speed of my internet co...   \n",
              "3  Why am I mentally very lonely? How can I solve...   \n",
              "4  Which one dissolve in water quikly sugar, salt...   \n",
              "\n",
              "                                           question2  tfidf_cosine  \n",
              "0  What is the step by step guide to invest in sh...      0.978922  \n",
              "1  What would happen if the Indian government sto...      0.802600  \n",
              "2  How can Internet speed be increased by hacking...      0.305513  \n",
              "3  Find the remainder when [math]23^{24}[/math] i...      0.000000  \n",
              "4            Which fish would survive in salt water?      0.391360  "
            ],
            "text/html": [
              "\n",
              "  <div id=\"df-79b99cc8-ab00-4030-9360-5a2327c99202\" class=\"colab-df-container\">\n",
              "    <div>\n",
              "<style scoped>\n",
              "    .dataframe tbody tr th:only-of-type {\n",
              "        vertical-align: middle;\n",
              "    }\n",
              "\n",
              "    .dataframe tbody tr th {\n",
              "        vertical-align: top;\n",
              "    }\n",
              "\n",
              "    .dataframe thead th {\n",
              "        text-align: right;\n",
              "    }\n",
              "</style>\n",
              "<table border=\"1\" class=\"dataframe\">\n",
              "  <thead>\n",
              "    <tr style=\"text-align: right;\">\n",
              "      <th></th>\n",
              "      <th>question1</th>\n",
              "      <th>question2</th>\n",
              "      <th>tfidf_cosine</th>\n",
              "    </tr>\n",
              "  </thead>\n",
              "  <tbody>\n",
              "    <tr>\n",
              "      <th>0</th>\n",
              "      <td>What is the step by step guide to invest in sh...</td>\n",
              "      <td>What is the step by step guide to invest in sh...</td>\n",
              "      <td>0.978922</td>\n",
              "    </tr>\n",
              "    <tr>\n",
              "      <th>1</th>\n",
              "      <td>What is the story of Kohinoor (Koh-i-Noor) Dia...</td>\n",
              "      <td>What would happen if the Indian government sto...</td>\n",
              "      <td>0.802600</td>\n",
              "    </tr>\n",
              "    <tr>\n",
              "      <th>2</th>\n",
              "      <td>How can I increase the speed of my internet co...</td>\n",
              "      <td>How can Internet speed be increased by hacking...</td>\n",
              "      <td>0.305513</td>\n",
              "    </tr>\n",
              "    <tr>\n",
              "      <th>3</th>\n",
              "      <td>Why am I mentally very lonely? How can I solve...</td>\n",
              "      <td>Find the remainder when [math]23^{24}[/math] i...</td>\n",
              "      <td>0.000000</td>\n",
              "    </tr>\n",
              "    <tr>\n",
              "      <th>4</th>\n",
              "      <td>Which one dissolve in water quikly sugar, salt...</td>\n",
              "      <td>Which fish would survive in salt water?</td>\n",
              "      <td>0.391360</td>\n",
              "    </tr>\n",
              "  </tbody>\n",
              "</table>\n",
              "</div>\n",
              "    <div class=\"colab-df-buttons\">\n",
              "\n",
              "  <div class=\"colab-df-container\">\n",
              "    <button class=\"colab-df-convert\" onclick=\"convertToInteractive('df-79b99cc8-ab00-4030-9360-5a2327c99202')\"\n",
              "            title=\"Convert this dataframe to an interactive table.\"\n",
              "            style=\"display:none;\">\n",
              "\n",
              "  <svg xmlns=\"http://www.w3.org/2000/svg\" height=\"24px\" viewBox=\"0 -960 960 960\">\n",
              "    <path d=\"M120-120v-720h720v720H120Zm60-500h600v-160H180v160Zm220 220h160v-160H400v160Zm0 220h160v-160H400v160ZM180-400h160v-160H180v160Zm440 0h160v-160H620v160ZM180-180h160v-160H180v160Zm440 0h160v-160H620v160Z\"/>\n",
              "  </svg>\n",
              "    </button>\n",
              "\n",
              "  <style>\n",
              "    .colab-df-container {\n",
              "      display:flex;\n",
              "      gap: 12px;\n",
              "    }\n",
              "\n",
              "    .colab-df-convert {\n",
              "      background-color: #E8F0FE;\n",
              "      border: none;\n",
              "      border-radius: 50%;\n",
              "      cursor: pointer;\n",
              "      display: none;\n",
              "      fill: #1967D2;\n",
              "      height: 32px;\n",
              "      padding: 0 0 0 0;\n",
              "      width: 32px;\n",
              "    }\n",
              "\n",
              "    .colab-df-convert:hover {\n",
              "      background-color: #E2EBFA;\n",
              "      box-shadow: 0px 1px 2px rgba(60, 64, 67, 0.3), 0px 1px 3px 1px rgba(60, 64, 67, 0.15);\n",
              "      fill: #174EA6;\n",
              "    }\n",
              "\n",
              "    .colab-df-buttons div {\n",
              "      margin-bottom: 4px;\n",
              "    }\n",
              "\n",
              "    [theme=dark] .colab-df-convert {\n",
              "      background-color: #3B4455;\n",
              "      fill: #D2E3FC;\n",
              "    }\n",
              "\n",
              "    [theme=dark] .colab-df-convert:hover {\n",
              "      background-color: #434B5C;\n",
              "      box-shadow: 0px 1px 3px 1px rgba(0, 0, 0, 0.15);\n",
              "      filter: drop-shadow(0px 1px 2px rgba(0, 0, 0, 0.3));\n",
              "      fill: #FFFFFF;\n",
              "    }\n",
              "  </style>\n",
              "\n",
              "    <script>\n",
              "      const buttonEl =\n",
              "        document.querySelector('#df-79b99cc8-ab00-4030-9360-5a2327c99202 button.colab-df-convert');\n",
              "      buttonEl.style.display =\n",
              "        google.colab.kernel.accessAllowed ? 'block' : 'none';\n",
              "\n",
              "      async function convertToInteractive(key) {\n",
              "        const element = document.querySelector('#df-79b99cc8-ab00-4030-9360-5a2327c99202');\n",
              "        const dataTable =\n",
              "          await google.colab.kernel.invokeFunction('convertToInteractive',\n",
              "                                                    [key], {});\n",
              "        if (!dataTable) return;\n",
              "\n",
              "        const docLinkHtml = 'Like what you see? Visit the ' +\n",
              "          '<a target=\"_blank\" href=https://colab.research.google.com/notebooks/data_table.ipynb>data table notebook</a>'\n",
              "          + ' to learn more about interactive tables.';\n",
              "        element.innerHTML = '';\n",
              "        dataTable['output_type'] = 'display_data';\n",
              "        await google.colab.output.renderOutput(dataTable, element);\n",
              "        const docLink = document.createElement('div');\n",
              "        docLink.innerHTML = docLinkHtml;\n",
              "        element.appendChild(docLink);\n",
              "      }\n",
              "    </script>\n",
              "  </div>\n",
              "\n",
              "\n",
              "    <div id=\"df-616863e6-bf70-4448-9cf4-1e817a29ac37\">\n",
              "      <button class=\"colab-df-quickchart\" onclick=\"quickchart('df-616863e6-bf70-4448-9cf4-1e817a29ac37')\"\n",
              "                title=\"Suggest charts\"\n",
              "                style=\"display:none;\">\n",
              "\n",
              "<svg xmlns=\"http://www.w3.org/2000/svg\" height=\"24px\"viewBox=\"0 0 24 24\"\n",
              "     width=\"24px\">\n",
              "    <g>\n",
              "        <path d=\"M19 3H5c-1.1 0-2 .9-2 2v14c0 1.1.9 2 2 2h14c1.1 0 2-.9 2-2V5c0-1.1-.9-2-2-2zM9 17H7v-7h2v7zm4 0h-2V7h2v10zm4 0h-2v-4h2v4z\"/>\n",
              "    </g>\n",
              "</svg>\n",
              "      </button>\n",
              "\n",
              "<style>\n",
              "  .colab-df-quickchart {\n",
              "      --bg-color: #E8F0FE;\n",
              "      --fill-color: #1967D2;\n",
              "      --hover-bg-color: #E2EBFA;\n",
              "      --hover-fill-color: #174EA6;\n",
              "      --disabled-fill-color: #AAA;\n",
              "      --disabled-bg-color: #DDD;\n",
              "  }\n",
              "\n",
              "  [theme=dark] .colab-df-quickchart {\n",
              "      --bg-color: #3B4455;\n",
              "      --fill-color: #D2E3FC;\n",
              "      --hover-bg-color: #434B5C;\n",
              "      --hover-fill-color: #FFFFFF;\n",
              "      --disabled-bg-color: #3B4455;\n",
              "      --disabled-fill-color: #666;\n",
              "  }\n",
              "\n",
              "  .colab-df-quickchart {\n",
              "    background-color: var(--bg-color);\n",
              "    border: none;\n",
              "    border-radius: 50%;\n",
              "    cursor: pointer;\n",
              "    display: none;\n",
              "    fill: var(--fill-color);\n",
              "    height: 32px;\n",
              "    padding: 0;\n",
              "    width: 32px;\n",
              "  }\n",
              "\n",
              "  .colab-df-quickchart:hover {\n",
              "    background-color: var(--hover-bg-color);\n",
              "    box-shadow: 0 1px 2px rgba(60, 64, 67, 0.3), 0 1px 3px 1px rgba(60, 64, 67, 0.15);\n",
              "    fill: var(--button-hover-fill-color);\n",
              "  }\n",
              "\n",
              "  .colab-df-quickchart-complete:disabled,\n",
              "  .colab-df-quickchart-complete:disabled:hover {\n",
              "    background-color: var(--disabled-bg-color);\n",
              "    fill: var(--disabled-fill-color);\n",
              "    box-shadow: none;\n",
              "  }\n",
              "\n",
              "  .colab-df-spinner {\n",
              "    border: 2px solid var(--fill-color);\n",
              "    border-color: transparent;\n",
              "    border-bottom-color: var(--fill-color);\n",
              "    animation:\n",
              "      spin 1s steps(1) infinite;\n",
              "  }\n",
              "\n",
              "  @keyframes spin {\n",
              "    0% {\n",
              "      border-color: transparent;\n",
              "      border-bottom-color: var(--fill-color);\n",
              "      border-left-color: var(--fill-color);\n",
              "    }\n",
              "    20% {\n",
              "      border-color: transparent;\n",
              "      border-left-color: var(--fill-color);\n",
              "      border-top-color: var(--fill-color);\n",
              "    }\n",
              "    30% {\n",
              "      border-color: transparent;\n",
              "      border-left-color: var(--fill-color);\n",
              "      border-top-color: var(--fill-color);\n",
              "      border-right-color: var(--fill-color);\n",
              "    }\n",
              "    40% {\n",
              "      border-color: transparent;\n",
              "      border-right-color: var(--fill-color);\n",
              "      border-top-color: var(--fill-color);\n",
              "    }\n",
              "    60% {\n",
              "      border-color: transparent;\n",
              "      border-right-color: var(--fill-color);\n",
              "    }\n",
              "    80% {\n",
              "      border-color: transparent;\n",
              "      border-right-color: var(--fill-color);\n",
              "      border-bottom-color: var(--fill-color);\n",
              "    }\n",
              "    90% {\n",
              "      border-color: transparent;\n",
              "      border-bottom-color: var(--fill-color);\n",
              "    }\n",
              "  }\n",
              "</style>\n",
              "\n",
              "      <script>\n",
              "        async function quickchart(key) {\n",
              "          const quickchartButtonEl =\n",
              "            document.querySelector('#' + key + ' button');\n",
              "          quickchartButtonEl.disabled = true;  // To prevent multiple clicks.\n",
              "          quickchartButtonEl.classList.add('colab-df-spinner');\n",
              "          try {\n",
              "            const charts = await google.colab.kernel.invokeFunction(\n",
              "                'suggestCharts', [key], {});\n",
              "          } catch (error) {\n",
              "            console.error('Error during call to suggestCharts:', error);\n",
              "          }\n",
              "          quickchartButtonEl.classList.remove('colab-df-spinner');\n",
              "          quickchartButtonEl.classList.add('colab-df-quickchart-complete');\n",
              "        }\n",
              "        (() => {\n",
              "          let quickchartButtonEl =\n",
              "            document.querySelector('#df-616863e6-bf70-4448-9cf4-1e817a29ac37 button');\n",
              "          quickchartButtonEl.style.display =\n",
              "            google.colab.kernel.accessAllowed ? 'block' : 'none';\n",
              "        })();\n",
              "      </script>\n",
              "    </div>\n",
              "\n",
              "    </div>\n",
              "  </div>\n"
            ],
            "application/vnd.google.colaboratory.intrinsic+json": {
              "type": "dataframe",
              "summary": "{\n  \"name\": \"df[['question1', 'question2', 'tfidf_cosine']]\",\n  \"rows\": 5,\n  \"fields\": [\n    {\n      \"column\": \"question1\",\n      \"properties\": {\n        \"dtype\": \"string\",\n        \"num_unique_values\": 5,\n        \"samples\": [\n          \"What is the story of Kohinoor (Koh-i-Noor) Diamond?\",\n          \"Which one dissolve in water quikly sugar, salt, methane and carbon di oxide?\",\n          \"How can I increase the speed of my internet connection while using a VPN?\"\n        ],\n        \"semantic_type\": \"\",\n        \"description\": \"\"\n      }\n    },\n    {\n      \"column\": \"question2\",\n      \"properties\": {\n        \"dtype\": \"string\",\n        \"num_unique_values\": 5,\n        \"samples\": [\n          \"What would happen if the Indian government stole the Kohinoor (Koh-i-Noor) diamond back?\",\n          \"Which fish would survive in salt water?\",\n          \"How can Internet speed be increased by hacking through DNS?\"\n        ],\n        \"semantic_type\": \"\",\n        \"description\": \"\"\n      }\n    },\n    {\n      \"column\": \"tfidf_cosine\",\n      \"properties\": {\n        \"dtype\": \"number\",\n        \"std\": 0.3938488869607977,\n        \"min\": 0.0,\n        \"max\": 0.9789220314526157,\n        \"num_unique_values\": 5,\n        \"samples\": [\n          0.8026004123329114,\n          0.39136030165624675,\n          0.30551291369635364\n        ],\n        \"semantic_type\": \"\",\n        \"description\": \"\"\n      }\n    }\n  ]\n}"
            }
          },
          "metadata": {},
          "execution_count": 18
        }
      ]
    },
    {
      "cell_type": "markdown",
      "source": [
        "\ud83d\udccc Cosine similarity \u043f\u043e\u043a\u0430\u0437\u0443\u0454, \u043d\u0430\u0441\u043a\u0456\u043b\u044c\u043a\u0438 \u0442\u0435\u043a\u0441\u0442\u0438 \u201c\u0441\u0445\u043e\u0436\u0456\u201d \u0443 \u0432\u0435\u043a\u0442\u043e\u0440\u043d\u043e\u043c\u0443 \u043f\u0440\u043e\u0441\u0442\u043e\u0440\u0456."
      ],
      "metadata": {
        "id": "QPLHt7iwYgIE"
      },
      "id": "QPLHt7iwYgIE"
    },
    {
      "cell_type": "markdown",
      "source": [
        "# \ud83d\udd39 \u041a\u0440\u043e\u043a 3: Sentence-BERT embedding + Cosine Similarity"
      ],
      "metadata": {
        "id": "Vu86F_5RYEZN"
      },
      "id": "Vu86F_5RYEZN"
    },
    {
      "cell_type": "code",
      "source": [
        "from sentence_transformers import SentenceTransformer\n",
        "import numpy as np\n",
        "\n",
        "model = SentenceTransformer('all-MiniLM-L6-v2')\n",
        "\n",
        "# \u0415\u043c\u0431\u0435\u0434\u0456\u043d\u0433\u0438\n",
        "q1_embeds = model.encode(df['q1_clean'].tolist(), batch_size=64, show_progress_bar=True)\n",
        "q2_embeds = model.encode(df['q2_clean'].tolist(), batch_size=64, show_progress_bar=True)\n",
        "\n",
        "np.save(\"q1_embeds.npy\", q1_embeds)\n",
        "np.save(\"q2_embeds.npy\", q2_embeds)\n",
        "\n",
        "# \u041a\u043e\u0441\u0438\u043d\u0443\u0441\u043d\u0430 \u0441\u0445\u043e\u0436\u0456\u0441\u0442\u044c\n",
        "sbert_cosine = [cosine_similarity([a], [b])[0][0] for a, b in zip(q1_embeds, q2_embeds)]\n",
        "df['sbert_cosine'] = sbert_cosine\n",
        "\n",
        "# \u0412\u0438\u0432\u043e\u0434\u0438\u043c\u043e 5 \u043f\u0435\u0440\u0448\u0438\u0445 \u0440\u044f\u0434\u043a\u0456\u0432\n",
        "df[['question1', 'question2', 'sbert_cosine']].head()"
      ],
      "metadata": {
        "id": "mCvU5xb_X91s",
        "outputId": "89e89499-be0f-40e0-b9fa-72a3f39e77d8",
        "colab": {
          "base_uri": "https://localhost:8080/",
          "height": 749
        }
      },
      "id": "mCvU5xb_X91s",
      "execution_count": 19,
      "outputs": [
        {
          "output_type": "stream",
          "name": "stderr",
          "text": [
            "/usr/local/lib/python3.11/dist-packages/huggingface_hub/utils/_auth.py:94: UserWarning: \n",
            "The secret `HF_TOKEN` does not exist in your Colab secrets.\n",
            "To authenticate with the Hugging Face Hub, create a token in your settings tab (https://huggingface.co/settings/tokens), set it as secret in your Google Colab and restart your session.\n",
            "You will be able to reuse this secret in all of your notebooks.\n",
            "Please note that authentication is recommended but still optional to access public models or datasets.\n",
            "  warnings.warn(\n"
          ]
        },
        {
          "output_type": "display_data",
          "data": {
            "text/plain": [
              "modules.json:   0%|          | 0.00/349 [00:00<?, ?B/s]"
            ],
            "application/vnd.jupyter.widget-view+json": {
              "version_major": 2,
              "version_minor": 0,
              "model_id": "9a88ef15305e479eacdd5aee389a6aef"
            }
          },
          "metadata": {}
        },
        {
          "output_type": "display_data",
          "data": {
            "text/plain": [
              "config_sentence_transformers.json:   0%|          | 0.00/116 [00:00<?, ?B/s]"
            ],
            "application/vnd.jupyter.widget-view+json": {
              "version_major": 2,
              "version_minor": 0,
              "model_id": "1686665b433e4197951be5b4360ac9b0"
            }
          },
          "metadata": {}
        },
        {
          "output_type": "display_data",
          "data": {
            "text/plain": [
              "README.md: 0.00B [00:00, ?B/s]"
            ],
            "application/vnd.jupyter.widget-view+json": {
              "version_major": 2,
              "version_minor": 0,
              "model_id": "2df000d4445e4367a5b76a87b64478d9"
            }
          },
          "metadata": {}
        },
        {
          "output_type": "display_data",
          "data": {
            "text/plain": [
              "sentence_bert_config.json:   0%|          | 0.00/53.0 [00:00<?, ?B/s]"
            ],
            "application/vnd.jupyter.widget-view+json": {
              "version_major": 2,
              "version_minor": 0,
              "model_id": "ba2ee82cc2f24b418a4db242c1f23d78"
            }
          },
          "metadata": {}
        },
        {
          "output_type": "display_data",
          "data": {
            "text/plain": [
              "config.json:   0%|          | 0.00/612 [00:00<?, ?B/s]"
            ],
            "application/vnd.jupyter.widget-view+json": {
              "version_major": 2,
              "version_minor": 0,
              "model_id": "0c7b19d875e743118acb5c859d5f8bfc"
            }
          },
          "metadata": {}
        },
        {
          "output_type": "display_data",
          "data": {
            "text/plain": [
              "model.safetensors:   0%|          | 0.00/90.9M [00:00<?, ?B/s]"
            ],
            "application/vnd.jupyter.widget-view+json": {
              "version_major": 2,
              "version_minor": 0,
              "model_id": "8bed0813578c429db1d322120d884d60"
            }
          },
          "metadata": {}
        },
        {
          "output_type": "display_data",
          "data": {
            "text/plain": [
              "tokenizer_config.json:   0%|          | 0.00/350 [00:00<?, ?B/s]"
            ],
            "application/vnd.jupyter.widget-view+json": {
              "version_major": 2,
              "version_minor": 0,
              "model_id": "d156a8f06432418ca68279ed09547af7"
            }
          },
          "metadata": {}
        },
        {
          "output_type": "display_data",
          "data": {
            "text/plain": [
              "vocab.txt: 0.00B [00:00, ?B/s]"
            ],
            "application/vnd.jupyter.widget-view+json": {
              "version_major": 2,
              "version_minor": 0,
              "model_id": "b493100e9ef045a187129634b8f6c10b"
            }
          },
          "metadata": {}
        },
        {
          "output_type": "display_data",
          "data": {
            "text/plain": [
              "tokenizer.json: 0.00B [00:00, ?B/s]"
            ],
            "application/vnd.jupyter.widget-view+json": {
              "version_major": 2,
              "version_minor": 0,
              "model_id": "412b9034ef2b4dfe81a58f68e3a17b92"
            }
          },
          "metadata": {}
        },
        {
          "output_type": "display_data",
          "data": {
            "text/plain": [
              "special_tokens_map.json:   0%|          | 0.00/112 [00:00<?, ?B/s]"
            ],
            "application/vnd.jupyter.widget-view+json": {
              "version_major": 2,
              "version_minor": 0,
              "model_id": "47ca6dfc49924caf9d25567818db4880"
            }
          },
          "metadata": {}
        },
        {
          "output_type": "display_data",
          "data": {
            "text/plain": [
              "config.json:   0%|          | 0.00/190 [00:00<?, ?B/s]"
            ],
            "application/vnd.jupyter.widget-view+json": {
              "version_major": 2,
              "version_minor": 0,
              "model_id": "8d6be57ad69347698e6c120ea79a22ab"
            }
          },
          "metadata": {}
        },
        {
          "output_type": "display_data",
          "data": {
            "text/plain": [
              "Batches:   0%|          | 0/157 [00:00<?, ?it/s]"
            ],
            "application/vnd.jupyter.widget-view+json": {
              "version_major": 2,
              "version_minor": 0,
              "model_id": "d724897af8694c7f863f3f2e4740f536"
            }
          },
          "metadata": {}
        },
        {
          "output_type": "display_data",
          "data": {
            "text/plain": [
              "Batches:   0%|          | 0/157 [00:00<?, ?it/s]"
            ],
            "application/vnd.jupyter.widget-view+json": {
              "version_major": 2,
              "version_minor": 0,
              "model_id": "79a3c228bf2d410fa7849ca50eeba861"
            }
          },
          "metadata": {}
        },
        {
          "output_type": "execute_result",
          "data": {
            "text/plain": [
              "                                           question1  \\\n",
              "0  What is the step by step guide to invest in sh...   \n",
              "1  What is the story of Kohinoor (Koh-i-Noor) Dia...   \n",
              "2  How can I increase the speed of my internet co...   \n",
              "3  Why am I mentally very lonely? How can I solve...   \n",
              "4  Which one dissolve in water quikly sugar, salt...   \n",
              "\n",
              "                                           question2  sbert_cosine  \n",
              "0  What is the step by step guide to invest in sh...      0.891514  \n",
              "1  What would happen if the Indian government sto...      0.712437  \n",
              "2  How can Internet speed be increased by hacking...      0.499448  \n",
              "3  Find the remainder when [math]23^{24}[/math] i...      0.159214  \n",
              "4            Which fish would survive in salt water?      0.212026  "
            ],
            "text/html": [
              "\n",
              "  <div id=\"df-2150be82-b9c2-45f7-9c2e-ebb7bf0365ce\" class=\"colab-df-container\">\n",
              "    <div>\n",
              "<style scoped>\n",
              "    .dataframe tbody tr th:only-of-type {\n",
              "        vertical-align: middle;\n",
              "    }\n",
              "\n",
              "    .dataframe tbody tr th {\n",
              "        vertical-align: top;\n",
              "    }\n",
              "\n",
              "    .dataframe thead th {\n",
              "        text-align: right;\n",
              "    }\n",
              "</style>\n",
              "<table border=\"1\" class=\"dataframe\">\n",
              "  <thead>\n",
              "    <tr style=\"text-align: right;\">\n",
              "      <th></th>\n",
              "      <th>question1</th>\n",
              "      <th>question2</th>\n",
              "      <th>sbert_cosine</th>\n",
              "    </tr>\n",
              "  </thead>\n",
              "  <tbody>\n",
              "    <tr>\n",
              "      <th>0</th>\n",
              "      <td>What is the step by step guide to invest in sh...</td>\n",
              "      <td>What is the step by step guide to invest in sh...</td>\n",
              "      <td>0.891514</td>\n",
              "    </tr>\n",
              "    <tr>\n",
              "      <th>1</th>\n",
              "      <td>What is the story of Kohinoor (Koh-i-Noor) Dia...</td>\n",
              "      <td>What would happen if the Indian government sto...</td>\n",
              "      <td>0.712437</td>\n",
              "    </tr>\n",
              "    <tr>\n",
              "      <th>2</th>\n",
              "      <td>How can I increase the speed of my internet co...</td>\n",
              "      <td>How can Internet speed be increased by hacking...</td>\n",
              "      <td>0.499448</td>\n",
              "    </tr>\n",
              "    <tr>\n",
              "      <th>3</th>\n",
              "      <td>Why am I mentally very lonely? How can I solve...</td>\n",
              "      <td>Find the remainder when [math]23^{24}[/math] i...</td>\n",
              "      <td>0.159214</td>\n",
              "    </tr>\n",
              "    <tr>\n",
              "      <th>4</th>\n",
              "      <td>Which one dissolve in water quikly sugar, salt...</td>\n",
              "      <td>Which fish would survive in salt water?</td>\n",
              "      <td>0.212026</td>\n",
              "    </tr>\n",
              "  </tbody>\n",
              "</table>\n",
              "</div>\n",
              "    <div class=\"colab-df-buttons\">\n",
              "\n",
              "  <div class=\"colab-df-container\">\n",
              "    <button class=\"colab-df-convert\" onclick=\"convertToInteractive('df-2150be82-b9c2-45f7-9c2e-ebb7bf0365ce')\"\n",
              "            title=\"Convert this dataframe to an interactive table.\"\n",
              "            style=\"display:none;\">\n",
              "\n",
              "  <svg xmlns=\"http://www.w3.org/2000/svg\" height=\"24px\" viewBox=\"0 -960 960 960\">\n",
              "    <path d=\"M120-120v-720h720v720H120Zm60-500h600v-160H180v160Zm220 220h160v-160H400v160Zm0 220h160v-160H400v160ZM180-400h160v-160H180v160Zm440 0h160v-160H620v160ZM180-180h160v-160H180v160Zm440 0h160v-160H620v160Z\"/>\n",
              "  </svg>\n",
              "    </button>\n",
              "\n",
              "  <style>\n",
              "    .colab-df-container {\n",
              "      display:flex;\n",
              "      gap: 12px;\n",
              "    }\n",
              "\n",
              "    .colab-df-convert {\n",
              "      background-color: #E8F0FE;\n",
              "      border: none;\n",
              "      border-radius: 50%;\n",
              "      cursor: pointer;\n",
              "      display: none;\n",
              "      fill: #1967D2;\n",
              "      height: 32px;\n",
              "      padding: 0 0 0 0;\n",
              "      width: 32px;\n",
              "    }\n",
              "\n",
              "    .colab-df-convert:hover {\n",
              "      background-color: #E2EBFA;\n",
              "      box-shadow: 0px 1px 2px rgba(60, 64, 67, 0.3), 0px 1px 3px 1px rgba(60, 64, 67, 0.15);\n",
              "      fill: #174EA6;\n",
              "    }\n",
              "\n",
              "    .colab-df-buttons div {\n",
              "      margin-bottom: 4px;\n",
              "    }\n",
              "\n",
              "    [theme=dark] .colab-df-convert {\n",
              "      background-color: #3B4455;\n",
              "      fill: #D2E3FC;\n",
              "    }\n",
              "\n",
              "    [theme=dark] .colab-df-convert:hover {\n",
              "      background-color: #434B5C;\n",
              "      box-shadow: 0px 1px 3px 1px rgba(0, 0, 0, 0.15);\n",
              "      filter: drop-shadow(0px 1px 2px rgba(0, 0, 0, 0.3));\n",
              "      fill: #FFFFFF;\n",
              "    }\n",
              "  </style>\n",
              "\n",
              "    <script>\n",
              "      const buttonEl =\n",
              "        document.querySelector('#df-2150be82-b9c2-45f7-9c2e-ebb7bf0365ce button.colab-df-convert');\n",
              "      buttonEl.style.display =\n",
              "        google.colab.kernel.accessAllowed ? 'block' : 'none';\n",
              "\n",
              "      async function convertToInteractive(key) {\n",
              "        const element = document.querySelector('#df-2150be82-b9c2-45f7-9c2e-ebb7bf0365ce');\n",
              "        const dataTable =\n",
              "          await google.colab.kernel.invokeFunction('convertToInteractive',\n",
              "                                                    [key], {});\n",
              "        if (!dataTable) return;\n",
              "\n",
              "        const docLinkHtml = 'Like what you see? Visit the ' +\n",
              "          '<a target=\"_blank\" href=https://colab.research.google.com/notebooks/data_table.ipynb>data table notebook</a>'\n",
              "          + ' to learn more about interactive tables.';\n",
              "        element.innerHTML = '';\n",
              "        dataTable['output_type'] = 'display_data';\n",
              "        await google.colab.output.renderOutput(dataTable, element);\n",
              "        const docLink = document.createElement('div');\n",
              "        docLink.innerHTML = docLinkHtml;\n",
              "        element.appendChild(docLink);\n",
              "      }\n",
              "    </script>\n",
              "  </div>\n",
              "\n",
              "\n",
              "    <div id=\"df-8dab666c-b23b-497f-869d-c48df4930065\">\n",
              "      <button class=\"colab-df-quickchart\" onclick=\"quickchart('df-8dab666c-b23b-497f-869d-c48df4930065')\"\n",
              "                title=\"Suggest charts\"\n",
              "                style=\"display:none;\">\n",
              "\n",
              "<svg xmlns=\"http://www.w3.org/2000/svg\" height=\"24px\"viewBox=\"0 0 24 24\"\n",
              "     width=\"24px\">\n",
              "    <g>\n",
              "        <path d=\"M19 3H5c-1.1 0-2 .9-2 2v14c0 1.1.9 2 2 2h14c1.1 0 2-.9 2-2V5c0-1.1-.9-2-2-2zM9 17H7v-7h2v7zm4 0h-2V7h2v10zm4 0h-2v-4h2v4z\"/>\n",
              "    </g>\n",
              "</svg>\n",
              "      </button>\n",
              "\n",
              "<style>\n",
              "  .colab-df-quickchart {\n",
              "      --bg-color: #E8F0FE;\n",
              "      --fill-color: #1967D2;\n",
              "      --hover-bg-color: #E2EBFA;\n",
              "      --hover-fill-color: #174EA6;\n",
              "      --disabled-fill-color: #AAA;\n",
              "      --disabled-bg-color: #DDD;\n",
              "  }\n",
              "\n",
              "  [theme=dark] .colab-df-quickchart {\n",
              "      --bg-color: #3B4455;\n",
              "      --fill-color: #D2E3FC;\n",
              "      --hover-bg-color: #434B5C;\n",
              "      --hover-fill-color: #FFFFFF;\n",
              "      --disabled-bg-color: #3B4455;\n",
              "      --disabled-fill-color: #666;\n",
              "  }\n",
              "\n",
              "  .colab-df-quickchart {\n",
              "    background-color: var(--bg-color);\n",
              "    border: none;\n",
              "    border-radius: 50%;\n",
              "    cursor: pointer;\n",
              "    display: none;\n",
              "    fill: var(--fill-color);\n",
              "    height: 32px;\n",
              "    padding: 0;\n",
              "    width: 32px;\n",
              "  }\n",
              "\n",
              "  .colab-df-quickchart:hover {\n",
              "    background-color: var(--hover-bg-color);\n",
              "    box-shadow: 0 1px 2px rgba(60, 64, 67, 0.3), 0 1px 3px 1px rgba(60, 64, 67, 0.15);\n",
              "    fill: var(--button-hover-fill-color);\n",
              "  }\n",
              "\n",
              "  .colab-df-quickchart-complete:disabled,\n",
              "  .colab-df-quickchart-complete:disabled:hover {\n",
              "    background-color: var(--disabled-bg-color);\n",
              "    fill: var(--disabled-fill-color);\n",
              "    box-shadow: none;\n",
              "  }\n",
              "\n",
              "  .colab-df-spinner {\n",
              "    border: 2px solid var(--fill-color);\n",
              "    border-color: transparent;\n",
              "    border-bottom-color: var(--fill-color);\n",
              "    animation:\n",
              "      spin 1s steps(1) infinite;\n",
              "  }\n",
              "\n",
              "  @keyframes spin {\n",
              "    0% {\n",
              "      border-color: transparent;\n",
              "      border-bottom-color: var(--fill-color);\n",
              "      border-left-color: var(--fill-color);\n",
              "    }\n",
              "    20% {\n",
              "      border-color: transparent;\n",
              "      border-left-color: var(--fill-color);\n",
              "      border-top-color: var(--fill-color);\n",
              "    }\n",
              "    30% {\n",
              "      border-color: transparent;\n",
              "      border-left-color: var(--fill-color);\n",
              "      border-top-color: var(--fill-color);\n",
              "      border-right-color: var(--fill-color);\n",
              "    }\n",
              "    40% {\n",
              "      border-color: transparent;\n",
              "      border-right-color: var(--fill-color);\n",
              "      border-top-color: var(--fill-color);\n",
              "    }\n",
              "    60% {\n",
              "      border-color: transparent;\n",
              "      border-right-color: var(--fill-color);\n",
              "    }\n",
              "    80% {\n",
              "      border-color: transparent;\n",
              "      border-right-color: var(--fill-color);\n",
              "      border-bottom-color: var(--fill-color);\n",
              "    }\n",
              "    90% {\n",
              "      border-color: transparent;\n",
              "      border-bottom-color: var(--fill-color);\n",
              "    }\n",
              "  }\n",
              "</style>\n",
              "\n",
              "      <script>\n",
              "        async function quickchart(key) {\n",
              "          const quickchartButtonEl =\n",
              "            document.querySelector('#' + key + ' button');\n",
              "          quickchartButtonEl.disabled = true;  // To prevent multiple clicks.\n",
              "          quickchartButtonEl.classList.add('colab-df-spinner');\n",
              "          try {\n",
              "            const charts = await google.colab.kernel.invokeFunction(\n",
              "                'suggestCharts', [key], {});\n",
              "          } catch (error) {\n",
              "            console.error('Error during call to suggestCharts:', error);\n",
              "          }\n",
              "          quickchartButtonEl.classList.remove('colab-df-spinner');\n",
              "          quickchartButtonEl.classList.add('colab-df-quickchart-complete');\n",
              "        }\n",
              "        (() => {\n",
              "          let quickchartButtonEl =\n",
              "            document.querySelector('#df-8dab666c-b23b-497f-869d-c48df4930065 button');\n",
              "          quickchartButtonEl.style.display =\n",
              "            google.colab.kernel.accessAllowed ? 'block' : 'none';\n",
              "        })();\n",
              "      </script>\n",
              "    </div>\n",
              "\n",
              "    </div>\n",
              "  </div>\n"
            ],
            "application/vnd.google.colaboratory.intrinsic+json": {
              "type": "dataframe",
              "summary": "{\n  \"name\": \"df[['question1', 'question2', 'sbert_cosine']]\",\n  \"rows\": 5,\n  \"fields\": [\n    {\n      \"column\": \"question1\",\n      \"properties\": {\n        \"dtype\": \"string\",\n        \"num_unique_values\": 5,\n        \"samples\": [\n          \"What is the story of Kohinoor (Koh-i-Noor) Diamond?\",\n          \"Which one dissolve in water quikly sugar, salt, methane and carbon di oxide?\",\n          \"How can I increase the speed of my internet connection while using a VPN?\"\n        ],\n        \"semantic_type\": \"\",\n        \"description\": \"\"\n      }\n    },\n    {\n      \"column\": \"question2\",\n      \"properties\": {\n        \"dtype\": \"string\",\n        \"num_unique_values\": 5,\n        \"samples\": [\n          \"What would happen if the Indian government stole the Kohinoor (Koh-i-Noor) diamond back?\",\n          \"Which fish would survive in salt water?\",\n          \"How can Internet speed be increased by hacking through DNS?\"\n        ],\n        \"semantic_type\": \"\",\n        \"description\": \"\"\n      }\n    },\n    {\n      \"column\": \"sbert_cosine\",\n      \"properties\": {\n        \"dtype\": \"float32\",\n        \"num_unique_values\": 5,\n        \"samples\": [\n          0.7124367952346802,\n          0.21202576160430908,\n          0.499447762966156\n        ],\n        \"semantic_type\": \"\",\n        \"description\": \"\"\n      }\n    }\n  ]\n}"
            }
          },
          "metadata": {},
          "execution_count": 19
        }
      ]
    },
    {
      "cell_type": "markdown",
      "source": [
        "\ud83d\udccc SBERT \u0440\u043e\u0437\u0443\u043c\u0456\u0454 \u0441\u0435\u043d\u0441, \u0430 \u043d\u0435 \u043b\u0438\u0448\u0435 \u0441\u043b\u043e\u0432\u0430. \u041d\u0430\u0432\u0456\u0442\u044c \u043f\u0435\u0440\u0435\u0444\u0440\u0430\u0437\u043e\u0432\u0430\u043d\u0456 \u0440\u0435\u0447\u0435\u043d\u043d\u044f \u043c\u043e\u0436\u0443\u0442\u044c \u043c\u0430\u0442\u0438 \u0432\u0438\u0441\u043e\u043a\u0443 \u0441\u0445\u043e\u0436\u0456\u0441\u0442\u044c."
      ],
      "metadata": {
        "id": "9Rh5c-yyYkqX"
      },
      "id": "9Rh5c-yyYkqX"
    },
    {
      "cell_type": "markdown",
      "source": [
        "# \ud83d\udd39 \u041a\u0440\u043e\u043a 4: \u041f\u0440\u043e\u0441\u0442\u0435 Feature Engineering"
      ],
      "metadata": {
        "id": "fMFUs-EenY8m"
      },
      "id": "fMFUs-EenY8m"
    },
    {
      "cell_type": "code",
      "source": [
        "# \u2705 \u0414\u043e\u0432\u0436\u0438\u043d\u0430 \u0437\u0430\u043f\u0438\u0442\u0430\u043d\u044c (Length features)\n",
        "# - \u0434\u043e\u0432\u0436\u0438\u043d question1 \u0456 question2 (\u043a\u0456\u043b\u044c\u043a\u0456\u0441\u0442\u044c \u0441\u0438\u043c\u0432\u043e\u043b\u0456\u0432 \u0430\u0431\u043e \u0441\u043b\u0456\u0432)\n",
        "# - \u0440\u0456\u0437\u043d\u0438\u0446\u044e \u0434\u043e\u0432\u0436\u0438\u043d\n",
        "# - \u0432\u0456\u0434\u043d\u043e\u0448\u0435\u043d\u043d\u044f \u0434\u043e\u0432\u0436\u0438\u043d\n",
        "\n",
        "df['q1_len'] = df['question1'].apply(lambda x: len(x.split()))\n",
        "df['q2_len'] = df['question2'].apply(lambda x: len(x.split()))\n",
        "df['len_diff'] = abs(df['q1_len'] - df['q2_len'])\n",
        "\n",
        "print(df['len_diff'].describe())"
      ],
      "metadata": {
        "id": "NQzSt28oxRZy",
        "outputId": "2cf8d2fb-2a90-4c76-bc19-c29d9082aa46",
        "colab": {
          "base_uri": "https://localhost:8080/"
        }
      },
      "id": "NQzSt28oxRZy",
      "execution_count": 20,
      "outputs": [
        {
          "output_type": "stream",
          "name": "stdout",
          "text": [
            "count    10000.00000\n",
            "mean         3.72770\n",
            "std          5.03586\n",
            "min          0.00000\n",
            "25%          1.00000\n",
            "50%          2.00000\n",
            "75%          5.00000\n",
            "max        200.00000\n",
            "Name: len_diff, dtype: float64\n"
          ]
        }
      ]
    },
    {
      "cell_type": "code",
      "source": [
        "def jaccard_similarity(q1, q2):\n",
        "    w1 = set(q1.split())\n",
        "    w2 = set(q2.split())\n",
        "    if len(w1.union(w2)) == 0:\n",
        "        return 0\n",
        "    return len(w1.intersection(w2)) / len(w1.union(w2))\n",
        "\n",
        "df['jaccard'] = df.apply(lambda row: jaccard_similarity(row['q1_clean'], row['q2_clean']), axis=1)\n",
        "\n",
        "print(df['jaccard'].describe())"
      ],
      "metadata": {
        "id": "3yaY_0oqx97X",
        "outputId": "4883df9d-ac5f-4acb-d299-c0ef99e5ae49",
        "colab": {
          "base_uri": "https://localhost:8080/"
        }
      },
      "id": "3yaY_0oqx97X",
      "execution_count": 21,
      "outputs": [
        {
          "output_type": "stream",
          "name": "stdout",
          "text": [
            "count    10000.000000\n",
            "mean         0.362733\n",
            "std          0.240259\n",
            "min          0.000000\n",
            "25%          0.174728\n",
            "50%          0.315789\n",
            "75%          0.504310\n",
            "max          1.000000\n",
            "Name: jaccard, dtype: float64\n"
          ]
        }
      ]
    },
    {
      "cell_type": "code",
      "source": [
        "df[['question1', 'question2', 'len_diff', 'jaccard', 'sbert_cosine']].head()"
      ],
      "metadata": {
        "id": "eOjcSZBaBN0X",
        "outputId": "cfe1736e-d1b6-42e1-9e94-95ef26a6f128",
        "colab": {
          "base_uri": "https://localhost:8080/",
          "height": 206
        }
      },
      "id": "eOjcSZBaBN0X",
      "execution_count": 22,
      "outputs": [
        {
          "output_type": "execute_result",
          "data": {
            "text/plain": [
              "                                           question1  \\\n",
              "0  What is the step by step guide to invest in sh...   \n",
              "1  What is the story of Kohinoor (Koh-i-Noor) Dia...   \n",
              "2  How can I increase the speed of my internet co...   \n",
              "3  Why am I mentally very lonely? How can I solve...   \n",
              "4  Which one dissolve in water quikly sugar, salt...   \n",
              "\n",
              "                                           question2  len_diff   jaccard  \\\n",
              "0  What is the step by step guide to invest in sh...         2  0.916667   \n",
              "1  What would happen if the Indian government sto...         5  0.285714   \n",
              "2  How can Internet speed be increased by hacking...         4  0.200000   \n",
              "3  Find the remainder when [math]23^{24}[/math] i...         2  0.000000   \n",
              "4            Which fish would survive in salt water?         6  0.250000   \n",
              "\n",
              "   sbert_cosine  \n",
              "0      0.891514  \n",
              "1      0.712437  \n",
              "2      0.499448  \n",
              "3      0.159214  \n",
              "4      0.212026  "
            ],
            "text/html": [
              "\n",
              "  <div id=\"df-95be5a9d-c8b8-446b-916c-976a06443da3\" class=\"colab-df-container\">\n",
              "    <div>\n",
              "<style scoped>\n",
              "    .dataframe tbody tr th:only-of-type {\n",
              "        vertical-align: middle;\n",
              "    }\n",
              "\n",
              "    .dataframe tbody tr th {\n",
              "        vertical-align: top;\n",
              "    }\n",
              "\n",
              "    .dataframe thead th {\n",
              "        text-align: right;\n",
              "    }\n",
              "</style>\n",
              "<table border=\"1\" class=\"dataframe\">\n",
              "  <thead>\n",
              "    <tr style=\"text-align: right;\">\n",
              "      <th></th>\n",
              "      <th>question1</th>\n",
              "      <th>question2</th>\n",
              "      <th>len_diff</th>\n",
              "      <th>jaccard</th>\n",
              "      <th>sbert_cosine</th>\n",
              "    </tr>\n",
              "  </thead>\n",
              "  <tbody>\n",
              "    <tr>\n",
              "      <th>0</th>\n",
              "      <td>What is the step by step guide to invest in sh...</td>\n",
              "      <td>What is the step by step guide to invest in sh...</td>\n",
              "      <td>2</td>\n",
              "      <td>0.916667</td>\n",
              "      <td>0.891514</td>\n",
              "    </tr>\n",
              "    <tr>\n",
              "      <th>1</th>\n",
              "      <td>What is the story of Kohinoor (Koh-i-Noor) Dia...</td>\n",
              "      <td>What would happen if the Indian government sto...</td>\n",
              "      <td>5</td>\n",
              "      <td>0.285714</td>\n",
              "      <td>0.712437</td>\n",
              "    </tr>\n",
              "    <tr>\n",
              "      <th>2</th>\n",
              "      <td>How can I increase the speed of my internet co...</td>\n",
              "      <td>How can Internet speed be increased by hacking...</td>\n",
              "      <td>4</td>\n",
              "      <td>0.200000</td>\n",
              "      <td>0.499448</td>\n",
              "    </tr>\n",
              "    <tr>\n",
              "      <th>3</th>\n",
              "      <td>Why am I mentally very lonely? How can I solve...</td>\n",
              "      <td>Find the remainder when [math]23^{24}[/math] i...</td>\n",
              "      <td>2</td>\n",
              "      <td>0.000000</td>\n",
              "      <td>0.159214</td>\n",
              "    </tr>\n",
              "    <tr>\n",
              "      <th>4</th>\n",
              "      <td>Which one dissolve in water quikly sugar, salt...</td>\n",
              "      <td>Which fish would survive in salt water?</td>\n",
              "      <td>6</td>\n",
              "      <td>0.250000</td>\n",
              "      <td>0.212026</td>\n",
              "    </tr>\n",
              "  </tbody>\n",
              "</table>\n",
              "</div>\n",
              "    <div class=\"colab-df-buttons\">\n",
              "\n",
              "  <div class=\"colab-df-container\">\n",
              "    <button class=\"colab-df-convert\" onclick=\"convertToInteractive('df-95be5a9d-c8b8-446b-916c-976a06443da3')\"\n",
              "            title=\"Convert this dataframe to an interactive table.\"\n",
              "            style=\"display:none;\">\n",
              "\n",
              "  <svg xmlns=\"http://www.w3.org/2000/svg\" height=\"24px\" viewBox=\"0 -960 960 960\">\n",
              "    <path d=\"M120-120v-720h720v720H120Zm60-500h600v-160H180v160Zm220 220h160v-160H400v160Zm0 220h160v-160H400v160ZM180-400h160v-160H180v160Zm440 0h160v-160H620v160ZM180-180h160v-160H180v160Zm440 0h160v-160H620v160Z\"/>\n",
              "  </svg>\n",
              "    </button>\n",
              "\n",
              "  <style>\n",
              "    .colab-df-container {\n",
              "      display:flex;\n",
              "      gap: 12px;\n",
              "    }\n",
              "\n",
              "    .colab-df-convert {\n",
              "      background-color: #E8F0FE;\n",
              "      border: none;\n",
              "      border-radius: 50%;\n",
              "      cursor: pointer;\n",
              "      display: none;\n",
              "      fill: #1967D2;\n",
              "      height: 32px;\n",
              "      padding: 0 0 0 0;\n",
              "      width: 32px;\n",
              "    }\n",
              "\n",
              "    .colab-df-convert:hover {\n",
              "      background-color: #E2EBFA;\n",
              "      box-shadow: 0px 1px 2px rgba(60, 64, 67, 0.3), 0px 1px 3px 1px rgba(60, 64, 67, 0.15);\n",
              "      fill: #174EA6;\n",
              "    }\n",
              "\n",
              "    .colab-df-buttons div {\n",
              "      margin-bottom: 4px;\n",
              "    }\n",
              "\n",
              "    [theme=dark] .colab-df-convert {\n",
              "      background-color: #3B4455;\n",
              "      fill: #D2E3FC;\n",
              "    }\n",
              "\n",
              "    [theme=dark] .colab-df-convert:hover {\n",
              "      background-color: #434B5C;\n",
              "      box-shadow: 0px 1px 3px 1px rgba(0, 0, 0, 0.15);\n",
              "      filter: drop-shadow(0px 1px 2px rgba(0, 0, 0, 0.3));\n",
              "      fill: #FFFFFF;\n",
              "    }\n",
              "  </style>\n",
              "\n",
              "    <script>\n",
              "      const buttonEl =\n",
              "        document.querySelector('#df-95be5a9d-c8b8-446b-916c-976a06443da3 button.colab-df-convert');\n",
              "      buttonEl.style.display =\n",
              "        google.colab.kernel.accessAllowed ? 'block' : 'none';\n",
              "\n",
              "      async function convertToInteractive(key) {\n",
              "        const element = document.querySelector('#df-95be5a9d-c8b8-446b-916c-976a06443da3');\n",
              "        const dataTable =\n",
              "          await google.colab.kernel.invokeFunction('convertToInteractive',\n",
              "                                                    [key], {});\n",
              "        if (!dataTable) return;\n",
              "\n",
              "        const docLinkHtml = 'Like what you see? Visit the ' +\n",
              "          '<a target=\"_blank\" href=https://colab.research.google.com/notebooks/data_table.ipynb>data table notebook</a>'\n",
              "          + ' to learn more about interactive tables.';\n",
              "        element.innerHTML = '';\n",
              "        dataTable['output_type'] = 'display_data';\n",
              "        await google.colab.output.renderOutput(dataTable, element);\n",
              "        const docLink = document.createElement('div');\n",
              "        docLink.innerHTML = docLinkHtml;\n",
              "        element.appendChild(docLink);\n",
              "      }\n",
              "    </script>\n",
              "  </div>\n",
              "\n",
              "\n",
              "    <div id=\"df-8d0be79b-025c-46ff-84a9-070c972372de\">\n",
              "      <button class=\"colab-df-quickchart\" onclick=\"quickchart('df-8d0be79b-025c-46ff-84a9-070c972372de')\"\n",
              "                title=\"Suggest charts\"\n",
              "                style=\"display:none;\">\n",
              "\n",
              "<svg xmlns=\"http://www.w3.org/2000/svg\" height=\"24px\"viewBox=\"0 0 24 24\"\n",
              "     width=\"24px\">\n",
              "    <g>\n",
              "        <path d=\"M19 3H5c-1.1 0-2 .9-2 2v14c0 1.1.9 2 2 2h14c1.1 0 2-.9 2-2V5c0-1.1-.9-2-2-2zM9 17H7v-7h2v7zm4 0h-2V7h2v10zm4 0h-2v-4h2v4z\"/>\n",
              "    </g>\n",
              "</svg>\n",
              "      </button>\n",
              "\n",
              "<style>\n",
              "  .colab-df-quickchart {\n",
              "      --bg-color: #E8F0FE;\n",
              "      --fill-color: #1967D2;\n",
              "      --hover-bg-color: #E2EBFA;\n",
              "      --hover-fill-color: #174EA6;\n",
              "      --disabled-fill-color: #AAA;\n",
              "      --disabled-bg-color: #DDD;\n",
              "  }\n",
              "\n",
              "  [theme=dark] .colab-df-quickchart {\n",
              "      --bg-color: #3B4455;\n",
              "      --fill-color: #D2E3FC;\n",
              "      --hover-bg-color: #434B5C;\n",
              "      --hover-fill-color: #FFFFFF;\n",
              "      --disabled-bg-color: #3B4455;\n",
              "      --disabled-fill-color: #666;\n",
              "  }\n",
              "\n",
              "  .colab-df-quickchart {\n",
              "    background-color: var(--bg-color);\n",
              "    border: none;\n",
              "    border-radius: 50%;\n",
              "    cursor: pointer;\n",
              "    display: none;\n",
              "    fill: var(--fill-color);\n",
              "    height: 32px;\n",
              "    padding: 0;\n",
              "    width: 32px;\n",
              "  }\n",
              "\n",
              "  .colab-df-quickchart:hover {\n",
              "    background-color: var(--hover-bg-color);\n",
              "    box-shadow: 0 1px 2px rgba(60, 64, 67, 0.3), 0 1px 3px 1px rgba(60, 64, 67, 0.15);\n",
              "    fill: var(--button-hover-fill-color);\n",
              "  }\n",
              "\n",
              "  .colab-df-quickchart-complete:disabled,\n",
              "  .colab-df-quickchart-complete:disabled:hover {\n",
              "    background-color: var(--disabled-bg-color);\n",
              "    fill: var(--disabled-fill-color);\n",
              "    box-shadow: none;\n",
              "  }\n",
              "\n",
              "  .colab-df-spinner {\n",
              "    border: 2px solid var(--fill-color);\n",
              "    border-color: transparent;\n",
              "    border-bottom-color: var(--fill-color);\n",
              "    animation:\n",
              "      spin 1s steps(1) infinite;\n",
              "  }\n",
              "\n",
              "  @keyframes spin {\n",
              "    0% {\n",
              "      border-color: transparent;\n",
              "      border-bottom-color: var(--fill-color);\n",
              "      border-left-color: var(--fill-color);\n",
              "    }\n",
              "    20% {\n",
              "      border-color: transparent;\n",
              "      border-left-color: var(--fill-color);\n",
              "      border-top-color: var(--fill-color);\n",
              "    }\n",
              "    30% {\n",
              "      border-color: transparent;\n",
              "      border-left-color: var(--fill-color);\n",
              "      border-top-color: var(--fill-color);\n",
              "      border-right-color: var(--fill-color);\n",
              "    }\n",
              "    40% {\n",
              "      border-color: transparent;\n",
              "      border-right-color: var(--fill-color);\n",
              "      border-top-color: var(--fill-color);\n",
              "    }\n",
              "    60% {\n",
              "      border-color: transparent;\n",
              "      border-right-color: var(--fill-color);\n",
              "    }\n",
              "    80% {\n",
              "      border-color: transparent;\n",
              "      border-right-color: var(--fill-color);\n",
              "      border-bottom-color: var(--fill-color);\n",
              "    }\n",
              "    90% {\n",
              "      border-color: transparent;\n",
              "      border-bottom-color: var(--fill-color);\n",
              "    }\n",
              "  }\n",
              "</style>\n",
              "\n",
              "      <script>\n",
              "        async function quickchart(key) {\n",
              "          const quickchartButtonEl =\n",
              "            document.querySelector('#' + key + ' button');\n",
              "          quickchartButtonEl.disabled = true;  // To prevent multiple clicks.\n",
              "          quickchartButtonEl.classList.add('colab-df-spinner');\n",
              "          try {\n",
              "            const charts = await google.colab.kernel.invokeFunction(\n",
              "                'suggestCharts', [key], {});\n",
              "          } catch (error) {\n",
              "            console.error('Error during call to suggestCharts:', error);\n",
              "          }\n",
              "          quickchartButtonEl.classList.remove('colab-df-spinner');\n",
              "          quickchartButtonEl.classList.add('colab-df-quickchart-complete');\n",
              "        }\n",
              "        (() => {\n",
              "          let quickchartButtonEl =\n",
              "            document.querySelector('#df-8d0be79b-025c-46ff-84a9-070c972372de button');\n",
              "          quickchartButtonEl.style.display =\n",
              "            google.colab.kernel.accessAllowed ? 'block' : 'none';\n",
              "        })();\n",
              "      </script>\n",
              "    </div>\n",
              "\n",
              "    </div>\n",
              "  </div>\n"
            ],
            "application/vnd.google.colaboratory.intrinsic+json": {
              "type": "dataframe",
              "summary": "{\n  \"name\": \"df[['question1', 'question2', 'len_diff', 'jaccard', 'sbert_cosine']]\",\n  \"rows\": 5,\n  \"fields\": [\n    {\n      \"column\": \"question1\",\n      \"properties\": {\n        \"dtype\": \"string\",\n        \"num_unique_values\": 5,\n        \"samples\": [\n          \"What is the story of Kohinoor (Koh-i-Noor) Diamond?\",\n          \"Which one dissolve in water quikly sugar, salt, methane and carbon di oxide?\",\n          \"How can I increase the speed of my internet connection while using a VPN?\"\n        ],\n        \"semantic_type\": \"\",\n        \"description\": \"\"\n      }\n    },\n    {\n      \"column\": \"question2\",\n      \"properties\": {\n        \"dtype\": \"string\",\n        \"num_unique_values\": 5,\n        \"samples\": [\n          \"What would happen if the Indian government stole the Kohinoor (Koh-i-Noor) diamond back?\",\n          \"Which fish would survive in salt water?\",\n          \"How can Internet speed be increased by hacking through DNS?\"\n        ],\n        \"semantic_type\": \"\",\n        \"description\": \"\"\n      }\n    },\n    {\n      \"column\": \"len_diff\",\n      \"properties\": {\n        \"dtype\": \"number\",\n        \"std\": 1,\n        \"min\": 2,\n        \"max\": 6,\n        \"num_unique_values\": 4,\n        \"samples\": [\n          5,\n          6,\n          2\n        ],\n        \"semantic_type\": \"\",\n        \"description\": \"\"\n      }\n    },\n    {\n      \"column\": \"jaccard\",\n      \"properties\": {\n        \"dtype\": \"number\",\n        \"std\": 0.3458098713457749,\n        \"min\": 0.0,\n        \"max\": 0.9166666666666666,\n        \"num_unique_values\": 5,\n        \"samples\": [\n          0.2857142857142857,\n          0.25,\n          0.2\n        ],\n        \"semantic_type\": \"\",\n        \"description\": \"\"\n      }\n    },\n    {\n      \"column\": \"sbert_cosine\",\n      \"properties\": {\n        \"dtype\": \"float32\",\n        \"num_unique_values\": 5,\n        \"samples\": [\n          0.7124367952346802,\n          0.21202576160430908,\n          0.499447762966156\n        ],\n        \"semantic_type\": \"\",\n        \"description\": \"\"\n      }\n    }\n  ]\n}"
            }
          },
          "metadata": {},
          "execution_count": 22
        }
      ]
    },
    {
      "cell_type": "markdown",
      "source": [
        "# \ud83d\udd39 \u041a\u0440\u043e\u043a 5: \u0412\u0456\u0437\u0443\u0430\u043b\u0456\u0437\u0430\u0446\u0456\u044f \u0434\u043b\u044f \u0440\u043e\u0437\u0443\u043c\u0456\u043d\u043d\u044f"
      ],
      "metadata": {
        "id": "UL6j2uTvXlKc"
      },
      "id": "UL6j2uTvXlKc"
    },
    {
      "cell_type": "code",
      "source": [
        "import seaborn as sns\n",
        "import matplotlib.pyplot as plt\n",
        "\n",
        "# \u041f\u0440\u0438\u043a\u043b\u0430\u0434: \u0440\u043e\u0437\u043f\u043e\u0434\u0456\u043b sbert_cosine \u0434\u043b\u044f \u0434\u0443\u0431\u043b\u0456\u043a\u0430\u0442\u0456\u0432 \u0456 \u043d\u0435-\u0434\u0443\u0431\u043b\u0456\u043a\u0430\u0442\u0456\u0432\n",
        "sns.histplot(data=df, x='sbert_cosine', hue='is_duplicate', bins=50, kde=True)\n",
        "plt.title(\"\u0420\u043e\u0437\u043f\u043e\u0434\u0456\u043b SBERT cosine similarity\")\n",
        "plt.xlabel(\"Cosine Similarity\")\n",
        "plt.ylabel(\"\u041a\u0456\u043b\u044c\u043a\u0456\u0441\u0442\u044c \u043f\u0440\u0438\u043a\u043b\u0430\u0434\u0456\u0432\")\n",
        "plt.show()"
      ],
      "metadata": {
        "id": "nSSiBmzbXncP",
        "outputId": "d8e0e981-11eb-4bf1-9709-0d7b94882662",
        "colab": {
          "base_uri": "https://localhost:8080/",
          "height": 472
        }
      },
      "id": "nSSiBmzbXncP",
      "execution_count": 23,
      "outputs": [
        {
          "output_type": "display_data",
          "data": {
            "text/plain": [
              "<Figure size 640x480 with 1 Axes>"
            ],
            "image/png": "[encoded data removed]"
          },
          "metadata": {}
        }
      ]
    },
    {
      "cell_type": "markdown",
      "source": [
        "\u0427\u0438 \u043c\u043e\u0436\u043d\u0430 \u0437\u043d\u0430\u0439\u0442\u0438 \u043f\u0430\u0440\u0438 \u0437 cosine similarity = 1?"
      ],
      "metadata": {
        "id": "ds6gd64shsa4"
      },
      "id": "ds6gd64shsa4"
    },
    {
      "cell_type": "code",
      "source": [
        "# \u0417\u043d\u0430\u0445\u043e\u0434\u0438\u043c\u043e \u0432\u0441\u0456 \u043f\u0430\u0440\u0438, \u0434\u0435 cosine similarity \u043c\u0430\u043a\u0441\u0438\u043c\u0430\u043b\u044c\u043d\u043e \u0431\u043b\u0438\u0437\u044c\u043a\u0435 \u0434\u043e 1\n",
        "max_val = df['sbert_cosine'].max()\n",
        "matches = df[df['sbert_cosine'] >= 0.9999][['question1', 'question2', 'sbert_cosine']]\n",
        "print(matches.head(3).to_string())\n",
        "print(max_val)"
      ],
      "metadata": {
        "id": "3b1H6O0nhZi5",
        "outputId": "c3c6b3e9-4730-460b-e1cb-c4aec177afc7",
        "colab": {
          "base_uri": "https://localhost:8080/"
        }
      },
      "id": "3b1H6O0nhZi5",
      "execution_count": 24,
      "outputs": [
        {
          "output_type": "stream",
          "name": "stdout",
          "text": [
            "                                                                       question1                                                                    question2  sbert_cosine\n",
            "1024                          What do you think about the movie, \"Interstellar\"?                              What do you think about the movie Interstellar?           1.0\n",
            "1209  What are the minimum GPA and GRE requirements of Florida State University?  What are the minimum GPA and  GRE requirements of Florida State University?           1.0\n",
            "1259               What is the difference between \"assessment\" and \"evaluation\"?                    What is the difference between assessment and evaluation?           1.0\n",
            "1.000000238418579\n"
          ]
        }
      ]
    },
    {
      "cell_type": "markdown",
      "source": [
        "## \ud83d\udd39 Baseline \u043c\u043e\u0434\u0435\u043b\u044c (\u043b\u043e\u0433\u0456\u0441\u0442\u0438\u0447\u043d\u0430 \u0440\u0435\u0433\u0440\u0435\u0441\u0456\u044f)"
      ],
      "metadata": {
        "id": "uIF95UuVnDZj"
      },
      "id": "uIF95UuVnDZj"
    },
    {
      "cell_type": "code",
      "source": [
        "from sklearn.linear_model import LogisticRegression\n",
        "from sklearn.model_selection import train_test_split\n",
        "from sklearn.metrics import accuracy_score\n",
        "\n",
        "# \u0412\u0438\u0431\u0438\u0440\u0430\u0454\u043c\u043e \u0444\u0456\u0447\u0456\n",
        "features = ['sbert_cosine', 'len_diff', 'jaccard']\n",
        "X = df[features]\n",
        "y = df['is_duplicate']\n",
        "\n",
        "# \u0422\u0440\u0435\u043d\u0443\u0432\u0430\u043b\u044c\u043d\u0430 \u0442\u0430 \u0442\u0435\u0441\u0442\u043e\u0432\u0430 \u0432\u0438\u0431\u0456\u0440\u043a\u0430\n",
        "X_train, X_test, y_train, y_test = train_test_split(X, y, test_size=0.2, random_state=42)\n",
        "\n",
        "# \u041b\u043e\u0433\u0456\u0441\u0442\u0438\u0447\u043d\u0430 \u0440\u0435\u0433\u0440\u0435\u0441\u0456\u044f\n",
        "model = LogisticRegression()\n",
        "model.fit(X_train, y_train)\n",
        "\n",
        "# \u041f\u0440\u043e\u0433\u043d\u043e\u0437\n",
        "y_pred = model.predict(X_test)\n",
        "print(\"Accuracy:\", accuracy_score(y_test, y_pred))"
      ],
      "metadata": {
        "id": "iTyyVEc5nCGQ",
        "outputId": "b33da97f-288e-463e-cc97-c6adfb24e3fb",
        "colab": {
          "base_uri": "https://localhost:8080/"
        }
      },
      "id": "iTyyVEc5nCGQ",
      "execution_count": 25,
      "outputs": [
        {
          "output_type": "stream",
          "name": "stdout",
          "text": [
            "Accuracy: 0.787\n"
          ]
        }
      ]
    },
    {
      "cell_type": "markdown",
      "source": [
        "# \ud83d\udd39 \u0412\u0456\u0437\u0443\u0430\u043b\u0456\u0437\u0430\u0446\u0456\u044f AUC \u0442\u0430 \u0442\u043e\u0447\u043d\u043e\u0441\u0442\u0456"
      ],
      "metadata": {
        "id": "eqk3pIB0nG11"
      },
      "id": "eqk3pIB0nG11"
    },
    {
      "cell_type": "code",
      "source": [
        "from sklearn.metrics import roc_auc_score, roc_curve\n",
        "import matplotlib.pyplot as plt\n",
        "\n",
        "# \u0419\u043c\u043e\u0432\u0456\u0440\u043d\u0456\u0441\u0442\u044c \u0437\u0430\u043c\u0456\u0441\u0442\u044c 0/1\n",
        "y_probs = model.predict_proba(X_test)[:, 1]\n",
        "\n",
        "# AUC\n",
        "auc = roc_auc_score(y_test, y_probs)\n",
        "print(\"AUC:\", auc)\n",
        "\n",
        "# \u041f\u043e\u0431\u0443\u0434\u043e\u0432\u0430 ROC \u043a\u0440\u0438\u0432\u043e\u0457\n",
        "fpr, tpr, thresholds = roc_curve(y_test, y_probs)\n",
        "plt.plot(fpr, tpr, label=f\"AUC = {auc:.3f}\")\n",
        "plt.plot([0, 1], [0, 1], '--')\n",
        "plt.xlabel(\"False Positive Rate\")\n",
        "plt.ylabel(\"True Positive Rate\")\n",
        "plt.title(\"ROC Curve\")\n",
        "plt.legend()\n",
        "plt.grid(True)\n",
        "plt.show()"
      ],
      "metadata": {
        "id": "Sh-t7m2BnrSs",
        "outputId": "c98deb24-1db7-42ac-a586-8db983b47105",
        "colab": {
          "base_uri": "https://localhost:8080/",
          "height": 490
        }
      },
      "id": "Sh-t7m2BnrSs",
      "execution_count": 26,
      "outputs": [
        {
          "output_type": "stream",
          "name": "stdout",
          "text": [
            "AUC: 0.8722322731687346\n"
          ]
        },
        {
          "output_type": "display_data",
          "data": {
            "text/plain": [
              "<Figure size 640x480 with 1 Axes>"
            ],
            "image/png": "[encoded data removed]"
          },
          "metadata": {}
        }
      ]
    },
    {
      "cell_type": "markdown",
      "source": [
        "# \u2705 \u041a\u0440\u043e\u043a 0: \u0406\u043c\u043f\u043e\u0440\u0442 \u0431\u0456\u0431\u043b\u0456\u043e\u0442\u0435\u043a"
      ],
      "metadata": {
        "id": "KfuFWQx02A8v"
      },
      "id": "KfuFWQx02A8v"
    },
    {
      "cell_type": "code",
      "source": [
        "import pandas as pd\n",
        "import numpy as np\n",
        "from sklearn.model_selection import train_test_split, cross_val_score, StratifiedKFold\n",
        "from sklearn.linear_model import LogisticRegression\n",
        "from sklearn.preprocessing import StandardScaler\n",
        "from sklearn.pipeline import Pipeline\n",
        "from sklearn.metrics import accuracy_score, f1_score, roc_auc_score, roc_curve\n",
        "import matplotlib.pyplot as plt\n",
        "import seaborn as sns"
      ],
      "metadata": {
        "id": "JBthgxsv2EDn"
      },
      "id": "JBthgxsv2EDn",
      "execution_count": 27,
      "outputs": []
    },
    {
      "cell_type": "markdown",
      "source": [
        "\u2705 \u041a\u0440\u043e\u043a 1: \u041f\u0456\u0434\u0433\u043e\u0442\u043e\u0432\u043a\u0430 \u0434\u0430\u043d\u0438\u0445"
      ],
      "metadata": {
        "id": "SpyeQvjA2Gxb"
      },
      "id": "SpyeQvjA2Gxb"
    },
    {
      "cell_type": "code",
      "source": [
        "# \u041f\u0440\u0438\u043f\u0443\u0441\u0442\u0438\u043c\u043e, \u0443 \u0432\u0430\u0441 \u0432\u0436\u0435 \u0454 DataFrame df \u0437 \u0442\u0430\u043a\u0438\u043c\u0438 \u043a\u043e\u043b\u043e\u043d\u043a\u0430\u043c\u0438:\n",
        "# ['sbert_cosine', 'jaccard', 'len_diff', 'is_duplicate']\n",
        "\n",
        "# \u0420\u043e\u0437\u0434\u0456\u043b\u044f\u0454\u043c\u043e X \u0442\u0430 y\n",
        "features = ['sbert_cosine', 'jaccard', 'len_diff']\n",
        "X = df[features]\n",
        "y = df['is_duplicate']"
      ],
      "metadata": {
        "id": "6YjxS24r2KGZ"
      },
      "id": "6YjxS24r2KGZ",
      "execution_count": 28,
      "outputs": []
    },
    {
      "cell_type": "markdown",
      "source": [
        "# \u2705 \u041a\u0440\u043e\u043a 2: \u0422\u0440\u0435\u043d\u0443\u0432\u0430\u043b\u044c\u043d\u0438\u0439 \u0456 \u0442\u0435\u0441\u0442\u043e\u0432\u0438\u0439 \u0441\u043f\u043b\u0456\u0442 + \u043f\u0430\u0439\u043f\u043b\u0430\u0439\u043d"
      ],
      "metadata": {
        "id": "A2q5Zt8H2g1k"
      },
      "id": "A2q5Zt8H2g1k"
    },
    {
      "cell_type": "code",
      "source": [
        "X_train, X_test, y_train, y_test = train_test_split(\n",
        "    X, y, test_size=0.2, stratify=y, random_state=42\n",
        ")\n",
        "\n",
        "# \u041f\u043e\u0431\u0443\u0434\u043e\u0432\u0430 \u043f\u0430\u0439\u043f\u043b\u0430\u0439\u043d\u0430 \u0437 \u043b\u043e\u0433\u0456\u0441\u0442\u0438\u0447\u043d\u043e\u044e \u0440\u0435\u0433\u0440\u0435\u0441\u0456\u0454\u044e\n",
        "pipeline = Pipeline([\n",
        "    ('scaler', StandardScaler()),\n",
        "    ('clf', LogisticRegression(solver='liblinear'))\n",
        "])"
      ],
      "metadata": {
        "id": "q8XSF79l2iwH"
      },
      "id": "q8XSF79l2iwH",
      "execution_count": 29,
      "outputs": []
    },
    {
      "cell_type": "markdown",
      "source": [
        "# \u2705 \u041a\u0440\u043e\u043a 3: \u041a\u0440\u043e\u0441-\u0432\u0430\u043b\u0456\u0434\u0430\u0446\u0456\u044f"
      ],
      "metadata": {
        "id": "fpq7Sp7k2nt1"
      },
      "id": "fpq7Sp7k2nt1"
    },
    {
      "cell_type": "code",
      "source": [
        "cv = StratifiedKFold(n_splits=5, shuffle=True, random_state=42)\n",
        "\n",
        "accuracy = cross_val_score(pipeline, X_train, y_train, cv=cv, scoring='accuracy')\n",
        "f1 = cross_val_score(pipeline, X_train, y_train, cv=cv, scoring='f1')\n",
        "auc = cross_val_score(pipeline, X_train, y_train, cv=cv, scoring='roc_auc')\n",
        "\n",
        "print(f\"Accuracy (CV): {accuracy.mean():.4f}\")\n",
        "print(f\"F1 Score (CV): {f1.mean():.4f}\")\n",
        "print(f\"AUC (CV): {auc.mean():.4f}\")\n"
      ],
      "metadata": {
        "id": "_191nwP12pNy",
        "outputId": "4e2d62a5-4343-4453-83d7-6ef6dc27f77c",
        "colab": {
          "base_uri": "https://localhost:8080/"
        }
      },
      "id": "_191nwP12pNy",
      "execution_count": 30,
      "outputs": [
        {
          "output_type": "stream",
          "name": "stdout",
          "text": [
            "Accuracy (CV): 0.7961\n",
            "F1 Score (CV): 0.7314\n",
            "AUC (CV): 0.8784\n"
          ]
        }
      ]
    },
    {
      "cell_type": "markdown",
      "source": [
        "# \u2705 \u041a\u0440\u043e\u043a 4: \u041d\u0430\u0432\u0447\u0430\u043d\u043d\u044f \u043c\u043e\u0434\u0435\u043b\u0456 + \u043e\u0446\u0456\u043d\u043a\u0430 \u043d\u0430 \u0442\u0435\u0441\u0442\u0456"
      ],
      "metadata": {
        "id": "3Dv9xvES2sGJ"
      },
      "id": "3Dv9xvES2sGJ"
    },
    {
      "cell_type": "code",
      "source": [
        "pipeline.fit(X_train, y_train)\n",
        "y_proba = pipeline.predict_proba(X_test)[:, 1]\n",
        "y_pred = pipeline.predict(X_test)\n",
        "\n",
        "print(f\"Accuracy: {accuracy_score(y_test, y_pred):.4f}\")\n",
        "print(f\"F1 Score: {f1_score(y_test, y_pred):.4f}\")\n",
        "print(f\"AUC: {roc_auc_score(y_test, y_proba):.4f}\")"
      ],
      "metadata": {
        "id": "EbHR1RNP2vHs",
        "outputId": "a3e1819e-aa37-46d4-8960-f2b33401d456",
        "colab": {
          "base_uri": "https://localhost:8080/"
        }
      },
      "id": "EbHR1RNP2vHs",
      "execution_count": 31,
      "outputs": [
        {
          "output_type": "stream",
          "name": "stdout",
          "text": [
            "Accuracy: 0.7850\n",
            "F1 Score: 0.7229\n",
            "AUC: 0.8752\n"
          ]
        }
      ]
    },
    {
      "cell_type": "markdown",
      "source": [
        "# \u2705 \u041a\u0440\u043e\u043a 5: \u041f\u0456\u0434\u0431\u0456\u0440 \u043f\u043e\u0440\u043e\u0433\u0443"
      ],
      "metadata": {
        "id": "w9CosylI2zXG"
      },
      "id": "w9CosylI2zXG"
    },
    {
      "cell_type": "code",
      "source": [
        "fpr, tpr, thresholds = roc_curve(y_test, y_proba)\n",
        "\n",
        "plt.figure(figsize=(10, 6))\n",
        "plt.plot(thresholds, tpr - fpr, label=\"TPR - FPR\")\n",
        "plt.xlabel(\"Threshold\")\n",
        "plt.ylabel(\"TPR - FPR\")\n",
        "plt.title(\"Optimization of Classification Threshold\")\n",
        "plt.grid(True)\n",
        "plt.legend()\n",
        "plt.show()\n",
        "\n",
        "# \u0417\u043d\u0430\u0439\u0434\u0435\u043c\u043e \u043d\u0430\u0439\u043a\u0440\u0430\u0449\u0438\u0439 \u043f\u043e\u0440\u0456\u0433\n",
        "optimal_idx = np.argmax(tpr - fpr)\n",
        "optimal_threshold = thresholds[optimal_idx]\n",
        "print(f\"Optimal threshold: {optimal_threshold:.2f}\")\n",
        "\n",
        "# \u0412\u0438\u043a\u043e\u0440\u0438\u0441\u0442\u0430\u0454\u043c\u043e \u0439\u043e\u0433\u043e\n",
        "y_pred_opt = (y_proba >= optimal_threshold).astype(int)\n",
        "print(f\"F1 (optimal): {f1_score(y_test, y_pred_opt):.4f}\")\n",
        "print(f\"Accuracy (optimal): {accuracy_score(y_test, y_pred_opt):.4f}\")\n"
      ],
      "metadata": {
        "id": "pvssyLln21FX",
        "outputId": "e97bbbcd-b58f-45a5-ea08-8c508d20bfa4",
        "colab": {
          "base_uri": "https://localhost:8080/",
          "height": 618
        }
      },
      "id": "pvssyLln21FX",
      "execution_count": 32,
      "outputs": [
        {
          "output_type": "display_data",
          "data": {
            "text/plain": [
              "<Figure size 1000x600 with 1 Axes>"
            ],
            "image/png": "[encoded data removed]"
          },
          "metadata": {}
        },
        {
          "output_type": "stream",
          "name": "stdout",
          "text": [
            "Optimal threshold: 0.31\n",
            "F1 (optimal): 0.7486\n",
            "Accuracy (optimal): 0.7750\n"
          ]
        }
      ]
    },
    {
      "cell_type": "markdown",
      "source": [
        "# \u2705 \u041a\u0440\u043e\u043a 6: \u0412\u0430\u0436\u043b\u0438\u0432\u0456\u0441\u0442\u044c \u0444\u0456\u0447"
      ],
      "metadata": {
        "id": "1tY9EIXN25qa"
      },
      "id": "1tY9EIXN25qa"
    },
    {
      "cell_type": "code",
      "source": [
        "# \u0412\u0438\u0442\u044f\u0433\u0430\u0454\u043c\u043e \u0432\u0430\u0433\u0438 \u043c\u043e\u0434\u0435\u043b\u0456\n",
        "model = pipeline.named_steps['clf']\n",
        "coefficients = model.coef_[0]\n",
        "importance_df = pd.DataFrame({\n",
        "    'feature': features,\n",
        "    'coefficient': coefficients,\n",
        "    'abs_coef': np.abs(coefficients)\n",
        "}).sort_values(by='abs_coef', ascending=False)\n",
        "\n",
        "sns.barplot(data=importance_df, x='abs_coef', y='feature')\n",
        "plt.title('Feature Importance (absolute coefficients)')\n",
        "plt.show()\n"
      ],
      "metadata": {
        "id": "Rf729hLy27OU",
        "outputId": "929bf93b-007d-48f1-8514-0820560c6f9b",
        "colab": {
          "base_uri": "https://localhost:8080/",
          "height": 472
        }
      },
      "id": "Rf729hLy27OU",
      "execution_count": 33,
      "outputs": [
        {
          "output_type": "display_data",
          "data": {
            "text/plain": [
              "<Figure size 640x480 with 1 Axes>"
            ],
            "image/png": "[encoded data removed]"
          },
          "metadata": {}
        }
      ]
    },
    {
      "cell_type": "markdown",
      "source": [
        "# \u2705 \u0427\u0430\u0441\u0442\u0438\u043d\u0430 1: XGBoost"
      ],
      "metadata": {
        "id": "wdm0DNlv5m5y"
      },
      "id": "wdm0DNlv5m5y"
    },
    {
      "cell_type": "code",
      "source": [
        "import xgboost as xgb\n",
        "from sklearn.model_selection import train_test_split, StratifiedKFold\n",
        "from sklearn.metrics import accuracy_score, f1_score, roc_auc_score, roc_curve\n",
        "import matplotlib.pyplot as plt\n",
        "import numpy as np\n",
        "import pandas as pd\n",
        "\n",
        "# === \u0414\u0430\u043d\u0456\n",
        "X = df[['sbert_cosine', 'jaccard', 'len_diff']]\n",
        "y = df['is_duplicate']\n",
        "X_train, X_test, y_train, y_test = train_test_split(\n",
        "    X, y, test_size=0.2, stratify=y, random_state=42\n",
        ")\n",
        "\n",
        "# === \u041c\u043e\u0434\u0435\u043b\u044c\n",
        "model_xgb = xgb.XGBClassifier(\n",
        "    objective='binary:logistic',\n",
        "    eval_metric='logloss',\n",
        "    use_label_encoder=False,\n",
        "    random_state=42\n",
        ")\n",
        "\n",
        "model_xgb.fit(X_train, y_train)\n",
        "y_proba = model_xgb.predict_proba(X_test)[:, 1]\n",
        "\n",
        "# === \u041e\u043f\u0442\u0438\u043c\u0430\u043b\u044c\u043d\u0438\u0439 \u043f\u043e\u0440\u0456\u0433\n",
        "fpr, tpr, thresholds = roc_curve(y_test, y_proba)\n",
        "optimal_idx = np.argmax(tpr - fpr)\n",
        "optimal_threshold = thresholds[optimal_idx]\n",
        "print(f\"Optimal threshold: {optimal_threshold:.2f}\")\n",
        "\n",
        "y_pred_opt = (y_proba >= optimal_threshold).astype(int)\n",
        "print(f\"F1 (optimal): {f1_score(y_test, y_pred_opt):.4f}\")\n",
        "print(f\"Accuracy (optimal): {accuracy_score(y_test, y_pred_opt):.4f}\")\n",
        "print(f\"AUC: {roc_auc_score(y_test, y_proba):.4f}\")\n",
        "\n",
        "# === \u0412\u0430\u0436\u043b\u0438\u0432\u0456\u0441\u0442\u044c \u0444\u0456\u0447\n",
        "xgb.plot_importance(model_xgb)\n",
        "plt.title('XGBoost Feature Importance')\n",
        "plt.show()\n"
      ],
      "metadata": {
        "id": "QGX84IdD5oal",
        "outputId": "a12c2735-ba2c-4291-9263-057d1a07985e",
        "colab": {
          "base_uri": "https://localhost:8080/",
          "height": 615
        }
      },
      "id": "QGX84IdD5oal",
      "execution_count": 34,
      "outputs": [
        {
          "output_type": "stream",
          "name": "stderr",
          "text": [
            "/usr/local/lib/python3.11/dist-packages/xgboost/training.py:183: UserWarning: [09:07:22] WARNING: /workspace/src/learner.cc:738: \n",
            "Parameters: { \"use_label_encoder\" } are not used.\n",
            "\n",
            "  bst.update(dtrain, iteration=i, fobj=obj)\n"
          ]
        },
        {
          "output_type": "stream",
          "name": "stdout",
          "text": [
            "Optimal threshold: 0.37\n",
            "F1 (optimal): 0.7430\n",
            "Accuracy (optimal): 0.7800\n",
            "AUC: 0.8659\n"
          ]
        },
        {
          "output_type": "display_data",
          "data": {
            "text/plain": [
              "<Figure size 640x480 with 1 Axes>"
            ],
            "image/png": "[encoded data removed]"
          },
          "metadata": {}
        }
      ]
    },
    {
      "cell_type": "markdown",
      "source": [
        "\u2705 \u042f\u043a \u043f\u043e\u043c\u0456\u0440\u044f\u0442\u0438 LogLoss"
      ],
      "metadata": {
        "id": "NLJPMVb0oetU"
      },
      "id": "NLJPMVb0oetU"
    },
    {
      "cell_type": "code",
      "source": [
        "from sklearn.metrics import log_loss\n",
        "\n",
        "# \u041f\u0435\u0440\u0435\u0434\u0431\u0430\u0447\u0435\u043d\u043d\u044f \u0439\u043c\u043e\u0432\u0456\u0440\u043d\u043e\u0441\u0442\u0435\u0439\n",
        "y_proba = model_xgb.predict_proba(X_test)[:, 1]\n",
        "\n",
        "# \u041e\u0431\u0447\u0438\u0441\u043b\u0435\u043d\u043d\u044f log loss\n",
        "ll = log_loss(y_test, y_proba)\n",
        "print(f\"LogLoss: {ll:.5f}\")\n"
      ],
      "metadata": {
        "id": "PZKymn1soh7b",
        "outputId": "00104e18-afda-49d5-d281-9d15abbdc4c2",
        "colab": {
          "base_uri": "https://localhost:8080/"
        }
      },
      "id": "PZKymn1soh7b",
      "execution_count": 35,
      "outputs": [
        {
          "output_type": "stream",
          "name": "stdout",
          "text": [
            "LogLoss: 0.43746\n"
          ]
        }
      ]
    },
    {
      "cell_type": "markdown",
      "source": [
        "# \u2705 \u0427\u0430\u0441\u0442\u0438\u043d\u0430 2: \u0413\u043b\u0438\u0431\u043e\u043a\u0430 \u043d\u0435\u0439\u0440\u043e\u043d\u043d\u0430 \u043c\u0435\u0440\u0435\u0436\u0430 (Keras)"
      ],
      "metadata": {
        "id": "hWomjzx_51V5"
      },
      "id": "hWomjzx_51V5"
    },
    {
      "cell_type": "code",
      "source": [
        "import tensorflow as tf\n",
        "from tensorflow.keras.models import Sequential\n",
        "from tensorflow.keras.layers import Dense, Dropout\n",
        "from sklearn.preprocessing import StandardScaler\n",
        "\n",
        "# === \u0421\u043a\u0435\u0439\u043b\u0456\u043d\u0433\n",
        "scaler = StandardScaler()\n",
        "X_train_scaled = scaler.fit_transform(X_train)\n",
        "X_test_scaled = scaler.transform(X_test)\n",
        "\n",
        "# === \u041c\u043e\u0434\u0435\u043b\u044c\n",
        "model_dnn = Sequential([\n",
        "    Dense(16, activation='relu', input_shape=(X_train_scaled.shape[1],)),\n",
        "    Dropout(0.2),\n",
        "    Dense(8, activation='relu'),\n",
        "    Dense(1, activation='sigmoid')\n",
        "])\n",
        "\n",
        "model_dnn.compile(optimizer='adam', loss='binary_crossentropy', metrics=['accuracy'])\n",
        "\n",
        "# === \u041d\u0430\u0432\u0447\u0430\u043d\u043d\u044f\n",
        "history = model_dnn.fit(X_train_scaled, y_train, epochs=20, batch_size=32, validation_split=0.2, verbose=0)\n",
        "\n",
        "# === \u041e\u0446\u0456\u043d\u043a\u0430\n",
        "y_proba_dnn = model_dnn.predict(X_test_scaled).flatten()\n",
        "fpr_dnn, tpr_dnn, thresholds_dnn = roc_curve(y_test, y_proba_dnn)\n",
        "optimal_idx_dnn = np.argmax(tpr_dnn - fpr_dnn)\n",
        "optimal_threshold_dnn = thresholds_dnn[optimal_idx_dnn]\n",
        "\n",
        "y_pred_opt_dnn = (y_proba_dnn >= optimal_threshold_dnn).astype(int)\n",
        "print(f\"Optimal threshold: {optimal_threshold_dnn:.2f}\")\n",
        "print(f\"F1 (optimal): {f1_score(y_test, y_pred_opt_dnn):.4f}\")\n",
        "print(f\"Accuracy (optimal): {accuracy_score(y_test, y_pred_opt_dnn):.4f}\")\n",
        "print(f\"AUC: {roc_auc_score(y_test, y_proba_dnn):.4f}\")\n"
      ],
      "metadata": {
        "id": "ZltIsYVm52nM",
        "outputId": "c9c3d933-29cd-4110-dab5-52116ba24ce0",
        "colab": {
          "base_uri": "https://localhost:8080/"
        }
      },
      "id": "ZltIsYVm52nM",
      "execution_count": 36,
      "outputs": [
        {
          "output_type": "stream",
          "name": "stderr",
          "text": [
            "/usr/local/lib/python3.11/dist-packages/keras/src/layers/core/dense.py:87: UserWarning: Do not pass an `input_shape`/`input_dim` argument to a layer. When using Sequential models, prefer using an `Input(shape)` object as the first layer in the model instead.\n",
            "  super().__init__(activity_regularizer=activity_regularizer, **kwargs)\n"
          ]
        },
        {
          "output_type": "stream",
          "name": "stdout",
          "text": [
            "\u001b[1m63/63\u001b[0m \u001b[32m\u2501\u2501\u2501\u2501\u2501\u2501\u2501\u2501\u2501\u2501\u2501\u2501\u2501\u2501\u2501\u2501\u2501\u2501\u2501\u2501\u001b[0m\u001b[37m\u001b[0m \u001b[1m0s\u001b[0m 2ms/step  \n",
            "Optimal threshold: 0.28\n",
            "F1 (optimal): 0.7574\n",
            "Accuracy (optimal): 0.7825\n",
            "AUC: 0.8834\n"
          ]
        }
      ]
    },
    {
      "cell_type": "markdown",
      "source": [
        "\u2705 \u042f\u043a \u043f\u043e\u043c\u0456\u0440\u044f\u0442\u0438 LogLoss"
      ],
      "metadata": {
        "id": "LMZQ-AsRsXb2"
      },
      "id": "LMZQ-AsRsXb2"
    },
    {
      "cell_type": "code",
      "source": [
        "y_proba_dnn = model_dnn.predict(X_test_scaled).flatten()\n",
        "ll_dnn = log_loss(y_test, y_proba_dnn)\n",
        "print(f\"LogLoss (DNN): {ll_dnn:.5f}\")"
      ],
      "metadata": {
        "id": "HCR0vX19sVc-",
        "outputId": "e1a5070b-f5ec-40eb-fefb-afb5a59420ff",
        "colab": {
          "base_uri": "https://localhost:8080/"
        }
      },
      "id": "HCR0vX19sVc-",
      "execution_count": 37,
      "outputs": [
        {
          "output_type": "stream",
          "name": "stdout",
          "text": [
            "\u001b[1m63/63\u001b[0m \u001b[32m\u2501\u2501\u2501\u2501\u2501\u2501\u2501\u2501\u2501\u2501\u2501\u2501\u2501\u2501\u2501\u2501\u2501\u2501\u2501\u2501\u001b[0m\u001b[37m\u001b[0m \u001b[1m0s\u001b[0m 1ms/step  \n",
            "LogLoss (DNN): 0.40492\n"
          ]
        }
      ]
    }
  ],
  "metadata": {
    "kernelspec": {
      "display_name": "Python 3",
      "language": "python",
      "name": "python3"
    },
    "language_info": {
      "codemirror_mode": {
        "name": "ipython",
        "version": 3
      },
      "file_extension": ".py",
      "mimetype": "text/x-python",
      "name": "python",
      "nbconvert_exporter": "python",
      "pygments_lexer": "ipython3",
      "version": "3.8.5"
    },
    "colab": {
      "provenance": [],
      "include_colab_link": true
    }
  },
  "nbformat": 4,
  "nbformat_minor": 5
}