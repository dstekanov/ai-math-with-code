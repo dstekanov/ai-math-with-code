{
 "cells": [
  {
   "cell_type": "code",
   "execution_count": null,
   "id": "33700a36",
   "metadata": {},
   "outputs": [],
   "source": [
    "# ⬇️ Завантаження бібліотек\n",
    "import pandas as pd\n",
    "import re\n",
    "import string"
   ]
  },
  {
   "cell_type": "code",
   "execution_count": null,
   "id": "056a3ff0",
   "metadata": {},
   "outputs": [],
   "source": [
    "# 📥 Завантаження файлу (якщо вручну з Colab)\n",
    "from google.colab import files\n",
    "uploaded = files.upload()"
   ]
  },
  {
   "cell_type": "code",
   "execution_count": null,
   "id": "29042f56",
   "metadata": {},
   "outputs": [],
   "source": [
    "# 📄 Читання CSV (файл має бути 'train.csv')\n",
    "df = pd.read_csv('train.csv')"
   ]
  },
  {
   "cell_type": "code",
   "execution_count": null,
   "id": "e44c97d5",
   "metadata": {},
   "outputs": [],
   "source": [
    "# 🧼 Базова очистка — видаляємо пропущені значення\n",
    "df = df.dropna(subset=[\"question1\", \"question2\"])"
   ]
  },
  {
   "cell_type": "code",
   "execution_count": null,
   "id": "964108c8",
   "metadata": {},
   "outputs": [],
   "source": [
    "# 🔤 Функція препроцесінгу\n",
    "def basic_preprocess(text):\n",
    "    text = text.lower()\n",
    "    text = re.sub(f\"[{re.escape(string.punctuation)}]\", \"\", text)\n",
    "    text = re.sub(r\"\\s+\", \" \", text).strip()\n",
    "    return text"
   ]
  },
  {
   "cell_type": "code",
   "execution_count": null,
   "id": "10fa34ff",
   "metadata": {},
   "outputs": [],
   "source": [
    "# 🧽 Застосування до обох питань\n",
    "df[\"question1_clean\"] = df[\"question1\"].apply(basic_preprocess)\n",
    "df[\"question2_clean\"] = df[\"question2\"].apply(basic_preprocess)"
   ]
  },
  {
   "cell_type": "code",
   "execution_count": null,
   "id": "07a03d93",
   "metadata": {},
   "outputs": [],
   "source": [
    "# 👀 Перевірка результатів\n",
    "df[[\"question1\", \"question1_clean\", \"question2\", \"question2_clean\"]].head()"
   ]
  }
 ],
 "metadata": {
  "kernelspec": {
   "display_name": "Python 3",
   "language": "python",
   "name": "python3"
  },
  "language_info": {
   "codemirror_mode": {
    "name": "ipython",
    "version": 3
   },
   "file_extension": ".py",
   "mimetype": "text/x-python",
   "name": "python",
   "nbconvert_exporter": "python",
   "pygments_lexer": "ipython3",
   "version": "3.8.5"
  }
 },
 "nbformat": 4,
 "nbformat_minor": 5
}
